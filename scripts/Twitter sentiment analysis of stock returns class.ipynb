{
 "cells": [
  {
   "cell_type": "code",
   "execution_count": null,
   "metadata": {},
   "outputs": [],
   "source": [
    "# Import needed packages\n",
    "import os\n",
    "import pandas as pd\n",
    "import tweepy\n",
    "import re\n",
    "import string\n",
    "from textblob import TextBlob\n",
    "import preprocessor as p\n",
    "import csv\n",
    "import sys\n",
    "import pandas_datareader as pdr\n",
    "import datetime\n"
   ]
  },
  {
   "cell_type": "code",
   "execution_count": null,
   "metadata": {},
   "outputs": [],
   "source": [
    "# Obtain stock tickers\n",
    "\n",
    "data = pd.read_html('https://en.wikipedia.org/wiki/List_of_S&P_500_companies')\n",
    "#print(data)\n",
    "table = data[0]\n",
    "#table.head()\n",
    "tickers = table['Symbol'].tolist()\n",
    "print(tickers)"
   ]
  },
  {
   "cell_type": "code",
   "execution_count": null,
   "metadata": {},
   "outputs": [],
   "source": [
    "# Get stock prices and returns\n",
    "startdate = datetime.datetime(2020,3,23)\n",
    "enddate = datetime.datetime(2020,3,27)\n",
    "\n",
    "temp_tickers = ['MMM', 'ABT', 'ABBV']\n",
    "\n",
    "file = open(\"stocks.csv\",'w',newline='')\n",
    "for ticker in temp_tickers:\n",
    "    try:\n",
    "        st = pdr.get_data_yahoo(ticker,start=startdate,end=enddate)\n",
    "        st['pct_change'] = st['Adj Close'].pct_change(4)\n",
    "        #print(ticker + str(st['Adj Close']) + str(st['pct_change']))\n",
    "        stockdata = csv.writer(file)\n",
    "        stockdata.writerow([ticker,st['pct_change'].iloc[-1]])\n",
    "    except:\n",
    "        pass\n",
    "\n",
    "file.close()\n"
   ]
  },
  {
   "cell_type": "code",
   "execution_count": null,
   "metadata": {},
   "outputs": [],
   "source": [
    "# Get Twitter data and do sentiment analysis\n",
    "# Authenticate credentials\n",
    "\n",
    "#Twitter credentials for the app\n",
    "consumer_key = 'ELRou1VKpS5p7EBEGamXqqGRT'\n",
    "consumer_secret = 'QbsToHJOyA9ZsDrFCCw1aErF9LubwqlfLpLcJviruhKepQwX3D'\n",
    "access_key= '3138259520-6jOClvoHXzF5DCf2XaylTxhrn1Rb7X50ykQyU3C'\n",
    "access_secret = 'r9bokM5UvRbS8QnsYdQksSi2tO8gRj7T4sfq2K41jzmQM'\n",
    "\n",
    "#Pass twitter credentials to tweepy\n",
    "auth = tweepy.OAuthHandler(consumer_key, consumer_secret)\n",
    "auth.set_access_token(access_key,access_secret)\n",
    "api = tweepy.API(auth,wait_on_rate_limit=True,wait_on_rate_limit_notify=True)\n",
    "\n",
    "file = open(\"searchTweets.csv\",\"w\",newline='')\n",
    "alltweets = csv.writer(file)\n",
    "\n",
    "for ticker in tickers:\n",
    "    query = \"$\"+ticker + \" -filter:retweets -filter:replies\"\n",
    "    tweets = tweepy.Cursor(api.search,q=query,lang='en',tweet_mode='extended').items(100)\n",
    "    for tweet in tweets:\n",
    "        status=tweet._json\n",
    "        created_at = status['created_at']\n",
    "        tweet_id = status['id_str']\n",
    "        tweet_text = status['full_text']\n",
    "        tweet_text = re.sub(r'\\W', ' ',tweet_text)\n",
    "        print(tweet_text)\n",
    "        try: \n",
    "            alltweets.writerow([ticker,created_at,tweet_id, tweet_text])\n",
    "        except UnicodeEncodeError:\n",
    "            pass\n",
    "\n",
    "file.close()\n"
   ]
  },
  {
   "cell_type": "code",
   "execution_count": null,
   "metadata": {},
   "outputs": [],
   "source": [
    "# Sentiment analysis\n",
    "\n",
    "file = open(\"searchTweets.csv\",\"r\")\n",
    "alltweets = csv.reader(file)\n",
    "\n",
    "sentiment_file = open(\"sentimenttweets.csv\",\"w\",newline='')\n",
    "sntTweets=csv.writer(sentiment_file)\n",
    "\n",
    "for row in alltweets:\n",
    "    blob = TextBlob(row[3])\n",
    "    if blob.sentiment.polarity>0:\n",
    "        sntTweets.writerow([row[0],row[1],row[2],blob.sentiment.polarity,\"positive\"])\n",
    "    elif blob.sentiment.polarity<0:\n",
    "        sntTweets.writerow([row[0],row[1],row[2],blob.sentiment.polarity,\"negative\"])     \n",
    "    elif blob.sentiment.polarity==0:\n",
    "        sntTweets.writerow([row[0],row[1],row[2],blob.sentiment.polarity,\"neutral\"])    \n",
    "        \n",
    "file.close()\n",
    "sentiment_file.close()"
   ]
  },
  {
   "cell_type": "code",
   "execution_count": null,
   "metadata": {},
   "outputs": [],
   "source": []
  }
 ],
 "metadata": {
  "kernelspec": {
   "display_name": "Python 3",
   "language": "python",
   "name": "python3"
  },
  "language_info": {
   "codemirror_mode": {
    "name": "ipython",
    "version": 3
   },
   "file_extension": ".py",
   "mimetype": "text/x-python",
   "name": "python",
   "nbconvert_exporter": "python",
   "pygments_lexer": "ipython3",
   "version": "3.8.5"
  }
 },
 "nbformat": 4,
 "nbformat_minor": 4
}
