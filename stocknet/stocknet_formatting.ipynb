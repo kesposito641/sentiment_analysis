{
 "cells": [
  {
   "cell_type": "code",
   "execution_count": 1,
   "metadata": {},
   "outputs": [],
   "source": [
    "import pandas as pd\n",
    "import os\n",
    "import json\n",
    "import numpy as np"
   ]
  },
  {
   "cell_type": "code",
   "execution_count": 26,
   "metadata": {},
   "outputs": [],
   "source": [
    "def get_file_paths():\n",
    "    '''\n",
    "    Creates a list of all the file paths for the stocknet dataset\n",
    "    '''\n",
    "    directory = r\"raw/\"\n",
    "    file_paths = []\n",
    "    for folder in os.listdir(directory):\n",
    "        try:\n",
    "            for file in os.listdir(directory+ folder +\"/\"):\n",
    "                new_path = directory+folder+\"/\"+file\n",
    "                file_paths.insert(len(file_paths), new_path)  \n",
    "        except:\n",
    "            print(\"Could not open file for\", folder)\n",
    "        pass\n",
    "    return file_paths"
   ]
  },
  {
   "cell_type": "code",
   "execution_count": 27,
   "metadata": {},
   "outputs": [],
   "source": [
    "def format_txt_to_json_list(pathname):\n",
    "    raw = open(pathname, \"r\")\n",
    "    raw_text = raw.read()\n",
    "    raw_text = raw_text[:-1]\n",
    "    list_text = raw_text.split(\"\\n\")\n",
    "    \n",
    "    json_list = []\n",
    "    for i in range(len(list_text)):\n",
    "        new_json = json.loads(list_text[i])\n",
    "        json_list.insert(i, new_json)\n",
    "    \n",
    "    return json_list"
   ]
  },
  {
   "cell_type": "code",
   "execution_count": 35,
   "metadata": {},
   "outputs": [],
   "source": [
    "def get_tweets_from_json_list(json_list, ticker):\n",
    "    \n",
    "    temp = pd.DataFrame(columns={\"date\", \"ticker\", \"message\"})\n",
    "    \n",
    "    for val in json_list:\n",
    "        message = val[\"text\"]\n",
    "        date = val[\"created_at\"]\n",
    "        ticker = ticker\n",
    "        temp.loc[len(temp.index)] = [date, message, ticker]\n",
    "    \n",
    "    return temp"
   ]
  },
  {
   "cell_type": "code",
   "execution_count": 49,
   "metadata": {},
   "outputs": [],
   "source": [
    "def format_files(paths):\n",
    "    all_tweets = pd.DataFrame(columns={\"ticker\", \"message\", \"date\"})\n",
    "    for path in paths:\n",
    "        \n",
    "        json_list = format_txt_to_json_list(path)\n",
    "        ticker = path.split(\"/\")[1]\n",
    "        tweets = get_tweets_from_json_list(json_list, ticker)\n",
    "        all_tweets = all_tweets.append(tweets)\n",
    "        all_tweets.sort_values(by=\"date\", inplace=True)\n",
    "        all_tweets.reset_index(drop=True,inplace=True)\n",
    "        \n",
    "        \n",
    "    return all_tweets"
   ]
  },
  {
   "cell_type": "code",
   "execution_count": 50,
   "metadata": {},
   "outputs": [],
   "source": [
    "def main():\n",
    "    \n",
    "    paths = get_file_paths()\n",
    "    \n",
    "    tweets = format_files(paths)\n",
    "    \n",
    "    return tweets\n",
    "    "
   ]
  },
  {
   "cell_type": "code",
   "execution_count": 51,
   "metadata": {},
   "outputs": [
    {
     "name": "stdout",
     "output_type": "stream",
     "text": [
      "Could not open file for .DS_Store\n"
     ]
    }
   ],
   "source": [
    "stocknet_df = main()"
   ]
  },
  {
   "cell_type": "code",
   "execution_count": 52,
   "metadata": {},
   "outputs": [],
   "source": [
    "def export_as_csv(df, path):\n",
    "    try:\n",
    "        df.to_csv(path)\n",
    "        print(\"Success\")\n",
    "    except:\n",
    "        print(\"Unable to save to .csv\")"
   ]
  },
  {
   "cell_type": "code",
   "execution_count": 53,
   "metadata": {},
   "outputs": [
    {
     "name": "stdout",
     "output_type": "stream",
     "text": [
      "Success\n"
     ]
    }
   ],
   "source": [
    "export_as_csv(stocknet_df, \"stocknet_data.csv\")"
   ]
  },
  {
   "cell_type": "code",
   "execution_count": null,
   "metadata": {},
   "outputs": [],
   "source": []
  }
 ],
 "metadata": {
  "kernelspec": {
   "display_name": "Python 3",
   "language": "python",
   "name": "python3"
  },
  "language_info": {
   "codemirror_mode": {
    "name": "ipython",
    "version": 3
   },
   "file_extension": ".py",
   "mimetype": "text/x-python",
   "name": "python",
   "nbconvert_exporter": "python",
   "pygments_lexer": "ipython3",
   "version": "3.8.5"
  }
 },
 "nbformat": 4,
 "nbformat_minor": 4
}
