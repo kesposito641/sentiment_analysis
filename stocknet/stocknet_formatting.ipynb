{
 "cells": [
  {
   "cell_type": "code",
   "execution_count": 1,
   "metadata": {},
   "outputs": [],
   "source": [
    "import pandas as pd\n",
    "import os\n",
    "import json\n",
    "import numpy as np"
   ]
  },
  {
   "cell_type": "code",
   "execution_count": 2,
   "metadata": {},
   "outputs": [],
   "source": [
    "def get_file_paths():\n",
    "    '''\n",
    "    Creates a list of all the file paths for the stocknet dataset\n",
    "    '''\n",
    "    directory = r\"raw/\"\n",
    "    file_paths = []\n",
    "    for folder in os.listdir(directory):\n",
    "        try:\n",
    "            for file in os.listdir(directory+ folder +\"/\"):\n",
    "                new_path = directory+folder+\"/\"+file\n",
    "                file_paths.insert(len(file_paths), new_path)  \n",
    "        except:\n",
    "            print(\"Could not open file for\", folder)\n",
    "        pass\n",
    "    return file_paths"
   ]
  },
  {
   "cell_type": "code",
   "execution_count": 3,
   "metadata": {},
   "outputs": [],
   "source": [
    "def format_txt_to_json_list(pathname):\n",
    "    raw = open(pathname, \"r\")\n",
    "    raw_text = raw.read()\n",
    "    raw_text = raw_text[:-1]\n",
    "    list_text = raw_text.split(\"\\n\")\n",
    "    \n",
    "    json_list = []\n",
    "    for i in range(len(list_text)):\n",
    "        new_json = json.loads(list_text[i])\n",
    "        json_list.insert(i, new_json)\n",
    "    \n",
    "    return json_list"
   ]
  },
  {
   "cell_type": "code",
   "execution_count": 4,
   "metadata": {},
   "outputs": [],
   "source": [
    "def get_tweets_from_json_list(json_list, ticker):\n",
    "    \n",
    "    temp = pd.DataFrame(columns={\"date\", \"ticker\", \"message\"})\n",
    "    \n",
    "    for val in json_list:\n",
    "        message = val[\"text\"]\n",
    "        date = val[\"created_at\"]\n",
    "        ticker = ticker\n",
    "        temp.loc[len(temp.index)] = [date, message, ticker]\n",
    "    \n",
    "    return temp"
   ]
  },
  {
   "cell_type": "code",
   "execution_count": 5,
   "metadata": {},
   "outputs": [],
   "source": [
    "def format_files(paths):\n",
    "    all_tweets = pd.DataFrame(columns={\"ticker\", \"message\", \"date\"})\n",
    "    for path in paths:\n",
    "        \n",
    "        json_list = format_txt_to_json_list(path)\n",
    "        ticker = path.split(\"/\")[1]\n",
    "        tweets = get_tweets_from_json_list(json_list, ticker)\n",
    "        all_tweets = all_tweets.append(tweets)\n",
    "        all_tweets.sort_values(by=\"date\", inplace=True)\n",
    "        all_tweets.reset_index(drop=True,inplace=True)\n",
    "        \n",
    "        \n",
    "    return all_tweets"
   ]
  },
  {
   "cell_type": "code",
   "execution_count": 6,
   "metadata": {},
   "outputs": [],
   "source": [
    "def main():\n",
    "    \n",
    "    paths = get_file_paths()\n",
    "    \n",
    "    tweets = format_files(paths)\n",
    "    \n",
    "    return tweets\n",
    "    "
   ]
  },
  {
   "cell_type": "code",
   "execution_count": 7,
   "metadata": {},
   "outputs": [
    {
     "name": "stdout",
     "output_type": "stream",
     "text": [
      "Could not open file for .DS_Store\n"
     ]
    }
   ],
   "source": [
    "stocknet_df = main()"
   ]
  },
  {
   "cell_type": "code",
   "execution_count": 24,
   "metadata": {},
   "outputs": [
    {
     "data": {
      "text/html": [
       "<div>\n",
       "<style scoped>\n",
       "    .dataframe tbody tr th:only-of-type {\n",
       "        vertical-align: middle;\n",
       "    }\n",
       "\n",
       "    .dataframe tbody tr th {\n",
       "        vertical-align: top;\n",
       "    }\n",
       "\n",
       "    .dataframe thead th {\n",
       "        text-align: right;\n",
       "    }\n",
       "</style>\n",
       "<table border=\"1\" class=\"dataframe\">\n",
       "  <thead>\n",
       "    <tr style=\"text-align: right;\">\n",
       "      <th></th>\n",
       "      <th>message</th>\n",
       "      <th>ticker</th>\n",
       "      <th>date</th>\n",
       "    </tr>\n",
       "  </thead>\n",
       "  <tbody>\n",
       "    <tr>\n",
       "      <th>0</th>\n",
       "      <td>Tue Oct 14 14:29:22 +0000 2014</td>\n",
       "      <td>RT @NatureBiotech: News Analysis: Apple moves ...</td>\n",
       "      <td>AAPL</td>\n",
       "    </tr>\n",
       "    <tr>\n",
       "      <th>1</th>\n",
       "      <td>Mon Mar 30 10:11:17 +0000 2015</td>\n",
       "      <td>Hope I win this #iPad mini from @ValueWalk! $A...</td>\n",
       "      <td>AAPL</td>\n",
       "    </tr>\n",
       "    <tr>\n",
       "      <th>2</th>\n",
       "      <td>Mon May 05 10:25:21 +0000 2014</td>\n",
       "      <td>Apple's iPad business isn't collapsing, but th...</td>\n",
       "      <td>AAPL</td>\n",
       "    </tr>\n",
       "    <tr>\n",
       "      <th>3</th>\n",
       "      <td>Fri Sep 19 14:20:59 +0000 2014</td>\n",
       "      <td>HFTs rinsing $AAPL now, eyeing some calls for ...</td>\n",
       "      <td>AAPL</td>\n",
       "    </tr>\n",
       "    <tr>\n",
       "      <th>4</th>\n",
       "      <td>Fri Feb 28 18:48:05 +0000 2014</td>\n",
       "      <td>$AAPL can this drop 10% from here</td>\n",
       "      <td>AAPL</td>\n",
       "    </tr>\n",
       "    <tr>\n",
       "      <th>...</th>\n",
       "      <td>...</td>\n",
       "      <td>...</td>\n",
       "      <td>...</td>\n",
       "    </tr>\n",
       "    <tr>\n",
       "      <th>119839</th>\n",
       "      <td>Tue Aug 18 11:36:12 +0000 2015</td>\n",
       "      <td>Who's next after Samson Energy's bankruptcy $L...</td>\n",
       "      <td>XOM</td>\n",
       "    </tr>\n",
       "    <tr>\n",
       "      <th>119840</th>\n",
       "      <td>Wed Mar 04 06:31:03 +0000 2015</td>\n",
       "      <td>$XOM - Can AT&amp;amp;T Save Your Retirement Portf...</td>\n",
       "      <td>XOM</td>\n",
       "    </tr>\n",
       "    <tr>\n",
       "      <th>119841</th>\n",
       "      <td>Sun Mar 06 16:27:34 +0000 2016</td>\n",
       "      <td>XLK Consumer Staples Select Sector SPDR Prev C...</td>\n",
       "      <td>XOM</td>\n",
       "    </tr>\n",
       "    <tr>\n",
       "      <th>119842</th>\n",
       "      <td>Sun Jan 25 18:30:10 +0000 2015</td>\n",
       "      <td>Reviewing Ensco's Recent Industry Presentation...</td>\n",
       "      <td>XOM</td>\n",
       "    </tr>\n",
       "    <tr>\n",
       "      <th>119843</th>\n",
       "      <td>Thu Jun 18 19:37:38 +0000 2015</td>\n",
       "      <td>GERN Geron Corp. Message Board Posts\\nhttp://t...</td>\n",
       "      <td>XOM</td>\n",
       "    </tr>\n",
       "  </tbody>\n",
       "</table>\n",
       "<p>119844 rows × 3 columns</p>\n",
       "</div>"
      ],
      "text/plain": [
       "                               message  \\\n",
       "0       Tue Oct 14 14:29:22 +0000 2014   \n",
       "1       Mon Mar 30 10:11:17 +0000 2015   \n",
       "2       Mon May 05 10:25:21 +0000 2014   \n",
       "3       Fri Sep 19 14:20:59 +0000 2014   \n",
       "4       Fri Feb 28 18:48:05 +0000 2014   \n",
       "...                                ...   \n",
       "119839  Tue Aug 18 11:36:12 +0000 2015   \n",
       "119840  Wed Mar 04 06:31:03 +0000 2015   \n",
       "119841  Sun Mar 06 16:27:34 +0000 2016   \n",
       "119842  Sun Jan 25 18:30:10 +0000 2015   \n",
       "119843  Thu Jun 18 19:37:38 +0000 2015   \n",
       "\n",
       "                                                   ticker  date  \n",
       "0       RT @NatureBiotech: News Analysis: Apple moves ...  AAPL  \n",
       "1       Hope I win this #iPad mini from @ValueWalk! $A...  AAPL  \n",
       "2       Apple's iPad business isn't collapsing, but th...  AAPL  \n",
       "3       HFTs rinsing $AAPL now, eyeing some calls for ...  AAPL  \n",
       "4                       $AAPL can this drop 10% from here  AAPL  \n",
       "...                                                   ...   ...  \n",
       "119839  Who's next after Samson Energy's bankruptcy $L...   XOM  \n",
       "119840  $XOM - Can AT&amp;T Save Your Retirement Portf...   XOM  \n",
       "119841  XLK Consumer Staples Select Sector SPDR Prev C...   XOM  \n",
       "119842  Reviewing Ensco's Recent Industry Presentation...   XOM  \n",
       "119843  GERN Geron Corp. Message Board Posts\\nhttp://t...   XOM  \n",
       "\n",
       "[119844 rows x 3 columns]"
      ]
     },
     "execution_count": 24,
     "metadata": {},
     "output_type": "execute_result"
    }
   ],
   "source": [
    "stocknet_df"
   ]
  },
  {
   "cell_type": "code",
   "execution_count": 28,
   "metadata": {},
   "outputs": [],
   "source": [
    "def export_as_csv(df, path):\n",
    "    try:\n",
    "        df.to_csv(path)\n",
    "        print(\"Success\")\n",
    "    except:\n",
    "        print(\"Unable to save to .csv\")"
   ]
  },
  {
   "cell_type": "code",
   "execution_count": 53,
   "metadata": {},
   "outputs": [
    {
     "name": "stdout",
     "output_type": "stream",
     "text": [
      "Success\n"
     ]
    }
   ],
   "source": [
    "# export_as_csv(stocknet_df, \"stocknet_data.csv\")"
   ]
  },
  {
   "cell_type": "code",
   "execution_count": 18,
   "metadata": {},
   "outputs": [
    {
     "data": {
      "text/plain": [
       "95356"
      ]
     },
     "execution_count": 18,
     "metadata": {},
     "output_type": "execute_result"
    }
   ],
   "source": [
    "len(stocknet_df[\"message\"].unique())"
   ]
  },
  {
   "cell_type": "code",
   "execution_count": 21,
   "metadata": {},
   "outputs": [
    {
     "data": {
      "text/plain": [
       "0        2014-10-14 14:29:22+00:00\n",
       "1        2015-03-30 10:11:17+00:00\n",
       "2        2014-05-05 10:25:21+00:00\n",
       "3        2014-09-19 14:20:59+00:00\n",
       "4        2014-02-28 18:48:05+00:00\n",
       "                    ...           \n",
       "119839   2015-08-18 11:36:12+00:00\n",
       "119840   2015-03-04 06:31:03+00:00\n",
       "119841   2016-03-06 16:27:34+00:00\n",
       "119842   2015-01-25 18:30:10+00:00\n",
       "119843   2015-06-18 19:37:38+00:00\n",
       "Name: message, Length: 119844, dtype: datetime64[ns, UTC]"
      ]
     },
     "execution_count": 21,
     "metadata": {},
     "output_type": "execute_result"
    }
   ],
   "source": [
    "pd.to_datetime(stocknet_df[\"message\"])"
   ]
  },
  {
   "cell_type": "code",
   "execution_count": 26,
   "metadata": {},
   "outputs": [],
   "source": [
    "stocknet_df.rename(columns={\"message\":\"date\",\"ticker\":\"text\",\"date\":\"ticker\"}, inplace=True)"
   ]
  },
  {
   "cell_type": "code",
   "execution_count": 41,
   "metadata": {},
   "outputs": [],
   "source": [
    "stocknet_df[\"date\"] = pd.to_datetime(stocknet_df[\"date\"])"
   ]
  },
  {
   "cell_type": "code",
   "execution_count": 45,
   "metadata": {},
   "outputs": [
    {
     "name": "stdout",
     "output_type": "stream",
     "text": [
      "Success\n"
     ]
    }
   ],
   "source": [
    "export_as_csv(stocknet_df, \"stocknet_data.csv\")"
   ]
  },
  {
   "cell_type": "code",
   "execution_count": 47,
   "metadata": {},
   "outputs": [
    {
     "data": {
      "text/html": [
       "<div>\n",
       "<style scoped>\n",
       "    .dataframe tbody tr th:only-of-type {\n",
       "        vertical-align: middle;\n",
       "    }\n",
       "\n",
       "    .dataframe tbody tr th {\n",
       "        vertical-align: top;\n",
       "    }\n",
       "\n",
       "    .dataframe thead th {\n",
       "        text-align: right;\n",
       "    }\n",
       "</style>\n",
       "<table border=\"1\" class=\"dataframe\">\n",
       "  <thead>\n",
       "    <tr style=\"text-align: right;\">\n",
       "      <th></th>\n",
       "      <th>date</th>\n",
       "      <th>text</th>\n",
       "      <th>ticker</th>\n",
       "    </tr>\n",
       "  </thead>\n",
       "  <tbody>\n",
       "  </tbody>\n",
       "</table>\n",
       "</div>"
      ],
      "text/plain": [
       "Empty DataFrame\n",
       "Columns: [date, text, ticker]\n",
       "Index: []"
      ]
     },
     "execution_count": 47,
     "metadata": {},
     "output_type": "execute_result"
    }
   ],
   "source": [
    "stocknet_df[stocknet_df[\"date\"]==\"C\"]"
   ]
  },
  {
   "cell_type": "code",
   "execution_count": 48,
   "metadata": {},
   "outputs": [
    {
     "data": {
      "text/plain": [
       "119844"
      ]
     },
     "execution_count": 48,
     "metadata": {},
     "output_type": "execute_result"
    }
   ],
   "source": [
    "len(stocknet_df)"
   ]
  },
  {
   "cell_type": "code",
   "execution_count": null,
   "metadata": {},
   "outputs": [],
   "source": []
  }
 ],
 "metadata": {
  "kernelspec": {
   "display_name": "Python 3",
   "language": "python",
   "name": "python3"
  },
  "language_info": {
   "codemirror_mode": {
    "name": "ipython",
    "version": 3
   },
   "file_extension": ".py",
   "mimetype": "text/x-python",
   "name": "python",
   "nbconvert_exporter": "python",
   "pygments_lexer": "ipython3",
   "version": "3.8.5"
  }
 },
 "nbformat": 4,
 "nbformat_minor": 4
}
