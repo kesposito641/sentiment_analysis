{
 "cells": [
  {
   "cell_type": "code",
   "execution_count": 1,
   "metadata": {},
   "outputs": [],
   "source": [
    "import pandas as pd\n",
    "import datetime as dt\n",
    "import matplotlib.pyplot as plt"
   ]
  },
  {
   "cell_type": "markdown",
   "metadata": {},
   "source": [
    "## Format the stockerbot data"
   ]
  },
  {
   "cell_type": "code",
   "execution_count": 45,
   "metadata": {},
   "outputs": [
    {
     "name": "stderr",
     "output_type": "stream",
     "text": [
      "b'Skipping line 731: expected 8 fields, saw 13\\nSkipping line 2836: expected 8 fields, saw 15\\nSkipping line 3058: expected 8 fields, saw 12\\nSkipping line 3113: expected 8 fields, saw 12\\nSkipping line 3194: expected 8 fields, saw 17\\nSkipping line 3205: expected 8 fields, saw 17\\nSkipping line 3255: expected 8 fields, saw 17\\nSkipping line 3520: expected 8 fields, saw 17\\nSkipping line 4078: expected 8 fields, saw 17\\nSkipping line 4087: expected 8 fields, saw 17\\nSkipping line 4088: expected 8 fields, saw 17\\nSkipping line 4499: expected 8 fields, saw 12\\n'\n"
     ]
    }
   ],
   "source": [
    "stockerbot = pd.read_csv(\"/Users/kelseyesposito/finBERT/data/sentiment_data/stockerbot-export.csv\", error_bad_lines=False)"
   ]
  },
  {
   "cell_type": "markdown",
   "metadata": {},
   "source": [
    "## Formatting the datasets to combine them"
   ]
  },
  {
   "cell_type": "code",
   "execution_count": 46,
   "metadata": {},
   "outputs": [
    {
     "data": {
      "text/html": [
       "<div>\n",
       "<style scoped>\n",
       "    .dataframe tbody tr th:only-of-type {\n",
       "        vertical-align: middle;\n",
       "    }\n",
       "\n",
       "    .dataframe tbody tr th {\n",
       "        vertical-align: top;\n",
       "    }\n",
       "\n",
       "    .dataframe thead th {\n",
       "        text-align: right;\n",
       "    }\n",
       "</style>\n",
       "<table border=\"1\" class=\"dataframe\">\n",
       "  <thead>\n",
       "    <tr style=\"text-align: right;\">\n",
       "      <th></th>\n",
       "      <th>date</th>\n",
       "      <th>ticker</th>\n",
       "      <th>text</th>\n",
       "    </tr>\n",
       "  </thead>\n",
       "  <tbody>\n",
       "    <tr>\n",
       "      <th>0</th>\n",
       "      <td>2018-07-18 21:33:26+00:00</td>\n",
       "      <td>GS</td>\n",
       "      <td>VIDEO: “I was in my office. I was minding my o...</td>\n",
       "    </tr>\n",
       "    <tr>\n",
       "      <th>1</th>\n",
       "      <td>2018-07-18 22:22:47+00:00</td>\n",
       "      <td>M</td>\n",
       "      <td>The price of lumber $LB_F is down 22% since hi...</td>\n",
       "    </tr>\n",
       "    <tr>\n",
       "      <th>2</th>\n",
       "      <td>2018-07-18 22:32:01+00:00</td>\n",
       "      <td>AIG</td>\n",
       "      <td>Who says the American Dream is dead? https://t...</td>\n",
       "    </tr>\n",
       "    <tr>\n",
       "      <th>3</th>\n",
       "      <td>2018-07-18 22:52:52+00:00</td>\n",
       "      <td>BTC</td>\n",
       "      <td>Barry Silbert is extremely optimistic on bitco...</td>\n",
       "    </tr>\n",
       "    <tr>\n",
       "      <th>4</th>\n",
       "      <td>2018-07-18 23:00:01+00:00</td>\n",
       "      <td>ORCL</td>\n",
       "      <td>How satellites avoid attacks and space junk wh...</td>\n",
       "    </tr>\n",
       "  </tbody>\n",
       "</table>\n",
       "</div>"
      ],
      "text/plain": [
       "                       date ticker  \\\n",
       "0 2018-07-18 21:33:26+00:00     GS   \n",
       "1 2018-07-18 22:22:47+00:00      M   \n",
       "2 2018-07-18 22:32:01+00:00    AIG   \n",
       "3 2018-07-18 22:52:52+00:00    BTC   \n",
       "4 2018-07-18 23:00:01+00:00   ORCL   \n",
       "\n",
       "                                                text  \n",
       "0  VIDEO: “I was in my office. I was minding my o...  \n",
       "1  The price of lumber $LB_F is down 22% since hi...  \n",
       "2  Who says the American Dream is dead? https://t...  \n",
       "3  Barry Silbert is extremely optimistic on bitco...  \n",
       "4  How satellites avoid attacks and space junk wh...  "
      ]
     },
     "execution_count": 46,
     "metadata": {},
     "output_type": "execute_result"
    }
   ],
   "source": [
    "stockerbot = stockerbot[[\"text\", \"timestamp\", \"symbols\"]]\n",
    "stockerbot.rename(columns={\"timestamp\":\"date\",\"symbols\":\"ticker\"}, inplace=True)\n",
    "stockerbot.reset_index(drop=True, inplace=True)\n",
    "stockerbot[\"date\"] = pd.to_datetime(stockerbot[\"date\"])\n",
    "stockerbot = stockerbot[['date','ticker','text']]\n",
    "stockerbot.head()"
   ]
  },
  {
   "cell_type": "markdown",
   "metadata": {},
   "source": [
    "## Format CorrectCleanData.csv"
   ]
  },
  {
   "cell_type": "code",
   "execution_count": null,
   "metadata": {},
   "outputs": [],
   "source": [
    "correctcleandata = pd.read_csv(\"/Users/kelseyesposito/finBERT/data/sentiment_data/CorrectCleanData.csv\");"
   ]
  },
  {
   "cell_type": "code",
   "execution_count": 64,
   "metadata": {},
   "outputs": [
    {
     "name": "stderr",
     "output_type": "stream",
     "text": [
      "<ipython-input-64-24c3e4be4911>:2: SettingWithCopyWarning: \n",
      "A value is trying to be set on a copy of a slice from a DataFrame.\n",
      "Try using .loc[row_indexer,col_indexer] = value instead\n",
      "\n",
      "See the caveats in the documentation: https://pandas.pydata.org/pandas-docs/stable/user_guide/indexing.html#returning-a-view-versus-a-copy\n",
      "  ccd[\"DATE\"] = pd.to_datetime(ccd[\"DATE\"],utc=True)\n",
      "/Users/kelseyesposito/opt/anaconda3/lib/python3.8/site-packages/pandas/core/frame.py:4296: SettingWithCopyWarning: \n",
      "A value is trying to be set on a copy of a slice from a DataFrame\n",
      "\n",
      "See the caveats in the documentation: https://pandas.pydata.org/pandas-docs/stable/user_guide/indexing.html#returning-a-view-versus-a-copy\n",
      "  return super().rename(\n"
     ]
    },
    {
     "data": {
      "text/html": [
       "<div>\n",
       "<style scoped>\n",
       "    .dataframe tbody tr th:only-of-type {\n",
       "        vertical-align: middle;\n",
       "    }\n",
       "\n",
       "    .dataframe tbody tr th {\n",
       "        vertical-align: top;\n",
       "    }\n",
       "\n",
       "    .dataframe thead th {\n",
       "        text-align: right;\n",
       "    }\n",
       "</style>\n",
       "<table border=\"1\" class=\"dataframe\">\n",
       "  <thead>\n",
       "    <tr style=\"text-align: right;\">\n",
       "      <th></th>\n",
       "      <th>text</th>\n",
       "      <th>company</th>\n",
       "      <th>date</th>\n",
       "    </tr>\n",
       "  </thead>\n",
       "  <tbody>\n",
       "    <tr>\n",
       "      <th>0</th>\n",
       "      <td>RT @robertoglezcano: @amazon  #Patents Show Fl...</td>\n",
       "      <td>Amazon</td>\n",
       "      <td>2017-01-31 00:00:00+00:00</td>\n",
       "    </tr>\n",
       "    <tr>\n",
       "      <th>1</th>\n",
       "      <td>@FAME95FM1 Jamaicans make money with @Payoneer...</td>\n",
       "      <td>PayPal</td>\n",
       "      <td>2017-01-31 00:00:00+00:00</td>\n",
       "    </tr>\n",
       "    <tr>\n",
       "      <th>2</th>\n",
       "      <td>@CBSi Jamaicans make money with @Payoneer @Pay...</td>\n",
       "      <td>PayPal</td>\n",
       "      <td>2017-01-31 00:00:00+00:00</td>\n",
       "    </tr>\n",
       "    <tr>\n",
       "      <th>3</th>\n",
       "      <td>@Hitz92fm Jamaicans make money with @Payoneer ...</td>\n",
       "      <td>PayPal</td>\n",
       "      <td>2017-01-31 00:00:00+00:00</td>\n",
       "    </tr>\n",
       "    <tr>\n",
       "      <th>4</th>\n",
       "      <td>RT @loadsofvans: Retweet this post &amp;amp; follo...</td>\n",
       "      <td>Amazon</td>\n",
       "      <td>2017-01-31 00:00:00+00:00</td>\n",
       "    </tr>\n",
       "  </tbody>\n",
       "</table>\n",
       "</div>"
      ],
      "text/plain": [
       "                                                text company  \\\n",
       "0  RT @robertoglezcano: @amazon  #Patents Show Fl...  Amazon   \n",
       "1  @FAME95FM1 Jamaicans make money with @Payoneer...  PayPal   \n",
       "2  @CBSi Jamaicans make money with @Payoneer @Pay...  PayPal   \n",
       "3  @Hitz92fm Jamaicans make money with @Payoneer ...  PayPal   \n",
       "4  RT @loadsofvans: Retweet this post &amp; follo...  Amazon   \n",
       "\n",
       "                       date  \n",
       "0 2017-01-31 00:00:00+00:00  \n",
       "1 2017-01-31 00:00:00+00:00  \n",
       "2 2017-01-31 00:00:00+00:00  \n",
       "3 2017-01-31 00:00:00+00:00  \n",
       "4 2017-01-31 00:00:00+00:00  "
      ]
     },
     "execution_count": 64,
     "metadata": {},
     "output_type": "execute_result"
    }
   ],
   "source": [
    "ccd = correctcleandata[[\"TWEET\", \"STOCK\", \"DATE\"]]\n",
    "ccd[\"DATE\"] = pd.to_datetime(ccd[\"DATE\"],utc=True)\n",
    "ccd.rename(columns={\"TWEET\":\"text\", \"STOCK\":'company', \"DATE\":\"date\"}, inplace=True)\n",
    "ccd.head()"
   ]
  },
  {
   "cell_type": "code",
   "execution_count": 65,
   "metadata": {},
   "outputs": [],
   "source": [
    "ccd_tickers = ['AMZN','PYPL','DIS','FB','SBUX','EBAY','TRI','CBS','NFLX','AAPL','DB','PEP','GOOGL',\n",
    "              'HSBC','F','MS','MCD','TSCDD','ESYJY','GE','ADBE','MSFT','BURBY','RYAAY',\n",
    "              'FDX','HP','BP','BAYRY','IBM','ORCL','NKE','CSCO','V','GS','VWAGY',\n",
    "              'AXP','XOM','WFC','AUDVF','BMWYY','DE','LRLCY','KR','T','HYMTF','AABA','CRM',\n",
    "              'TM','C','SAP','HNNMY','RDS.A','WMT','SNE','CVX','HMC','ASC.L','HD','NSANY',\n",
    "              'NEXT','PFE','VZ','BA','GILLETTE','INTC','TMUS','CMCSA','EXPE','NSRGY',\n",
    "               'BAC','ADDYY','TRIP','KO','THLLY','UPS','TFCF','BLK','MA','K','005930','JPM',\n",
    "              'HEINY','GSK','ALIZY','VOD','SIEGY','CRRFY','GRPN','AZN','VIAC','SAN','COST',\n",
    "              'BKNG','CVS','PG','BASFY','CL','DANOY', 'CAH','EQNR']\n",
    "ccd_companies = ['Amazon', 'PayPal', 'Disney', 'Facebook', 'Starbucks', 'eBay',\n",
    "       'Reuters', 'CBS', 'Netflix', 'Apple', 'Deutsche Bank', 'Pepsi',\n",
    "       'Google', 'HSBC', 'Ford', 'Morgan Stanley', \"McDonald's\", 'Tesco',\n",
    "       'easyJet', 'General Electric', 'Adobe', 'Microsoft', 'Burberry',\n",
    "       'Ryanair', 'FedEx', 'HP', 'BP', 'Bayer', 'IBM', 'Oracle', 'Nike',\n",
    "       'Cisco', 'Visa', 'Goldman Sachs', 'Volkswagen', 'American Express',\n",
    "       'Exxon', 'Wells Fargo', 'Audi', 'BMW', 'John Deere', \"L'Oreal\",\n",
    "       'Kroger', 'AT&T', 'Hyundai', 'Yahoo', 'salesforce.com', 'Toyota',\n",
    "       'Citigroup', 'SAP', 'H&M', 'Shell', 'Walmart', 'Sony', 'Chevron',\n",
    "       'Honda', 'ASOS', 'Home Depot', 'Nissan', 'Next', 'Pfizer',\n",
    "       'Verizon', 'Boeing', 'Gillette', 'Intel', 'TMobile', 'Comcast',\n",
    "       'Expedia', 'Nestle', 'Bank of America', 'adidas', 'TripAdvisor',\n",
    "       'CocaCola', 'Thales', 'UPS', '21CF', 'BlackRock', 'Mastercard',\n",
    "       \"Kellogg's\", 'Samsung', 'JPMorgan', 'Heineken', 'GSK', 'Allianz',\n",
    "       'Vodafone', 'Siemens', 'Carrefour', 'Groupon', 'AstraZeneca',\n",
    "       'Viacom', 'Santander', 'Costco', 'bookingcom', 'CVS Health', 'P&G',\n",
    "       'BASF', 'Colgate', 'Danone', 'Cardinal Health', 'Equinor']\n",
    "ccd_ticker_to_company = pd.DataFrame(list(zip(ccd_tickers,ccd_companies)), columns=['ticker','company'])\n"
   ]
  },
  {
   "cell_type": "code",
   "execution_count": 66,
   "metadata": {},
   "outputs": [
    {
     "data": {
      "text/html": [
       "<div>\n",
       "<style scoped>\n",
       "    .dataframe tbody tr th:only-of-type {\n",
       "        vertical-align: middle;\n",
       "    }\n",
       "\n",
       "    .dataframe tbody tr th {\n",
       "        vertical-align: top;\n",
       "    }\n",
       "\n",
       "    .dataframe thead th {\n",
       "        text-align: right;\n",
       "    }\n",
       "</style>\n",
       "<table border=\"1\" class=\"dataframe\">\n",
       "  <thead>\n",
       "    <tr style=\"text-align: right;\">\n",
       "      <th></th>\n",
       "      <th>date</th>\n",
       "      <th>ticker</th>\n",
       "      <th>text</th>\n",
       "    </tr>\n",
       "  </thead>\n",
       "  <tbody>\n",
       "    <tr>\n",
       "      <th>0</th>\n",
       "      <td>2017-01-31 00:00:00+00:00</td>\n",
       "      <td>AMZN</td>\n",
       "      <td>RT @robertoglezcano: @amazon  #Patents Show Fl...</td>\n",
       "    </tr>\n",
       "    <tr>\n",
       "      <th>1</th>\n",
       "      <td>2017-01-31 00:00:00+00:00</td>\n",
       "      <td>AMZN</td>\n",
       "      <td>RT @loadsofvans: Retweet this post &amp;amp; follo...</td>\n",
       "    </tr>\n",
       "    <tr>\n",
       "      <th>2</th>\n",
       "      <td>2017-01-31 00:00:00+00:00</td>\n",
       "      <td>AMZN</td>\n",
       "      <td>RT @jhill1105: @loadsofvans Retweet this post ...</td>\n",
       "    </tr>\n",
       "    <tr>\n",
       "      <th>3</th>\n",
       "      <td>2017-01-31 00:00:00+00:00</td>\n",
       "      <td>AMZN</td>\n",
       "      <td>@amazon has your back when it comes to food sh...</td>\n",
       "    </tr>\n",
       "    <tr>\n",
       "      <th>4</th>\n",
       "      <td>2017-01-31 00:00:00+00:00</td>\n",
       "      <td>AMZN</td>\n",
       "      <td>Wish List https://t.co/tTBDy3czdm via @amazon</td>\n",
       "    </tr>\n",
       "  </tbody>\n",
       "</table>\n",
       "</div>"
      ],
      "text/plain": [
       "                       date ticker  \\\n",
       "0 2017-01-31 00:00:00+00:00   AMZN   \n",
       "1 2017-01-31 00:00:00+00:00   AMZN   \n",
       "2 2017-01-31 00:00:00+00:00   AMZN   \n",
       "3 2017-01-31 00:00:00+00:00   AMZN   \n",
       "4 2017-01-31 00:00:00+00:00   AMZN   \n",
       "\n",
       "                                                text  \n",
       "0  RT @robertoglezcano: @amazon  #Patents Show Fl...  \n",
       "1  RT @loadsofvans: Retweet this post &amp; follo...  \n",
       "2  RT @jhill1105: @loadsofvans Retweet this post ...  \n",
       "3  @amazon has your back when it comes to food sh...  \n",
       "4      Wish List https://t.co/tTBDy3czdm via @amazon  "
      ]
     },
     "execution_count": 66,
     "metadata": {},
     "output_type": "execute_result"
    }
   ],
   "source": [
    "ccd_new = pd.merge(ccd, ccd_ticker_to_company, on='company')\n",
    "ccd_new = ccd_new[[\"date\", \"ticker\", \"text\"]]\n",
    "ccd_new.head()"
   ]
  },
  {
   "cell_type": "markdown",
   "metadata": {},
   "source": [
    "## Format the stocknet data"
   ]
  },
  {
   "cell_type": "code",
   "execution_count": 102,
   "metadata": {},
   "outputs": [
    {
     "name": "stderr",
     "output_type": "stream",
     "text": [
      "/Users/kelseyesposito/opt/anaconda3/lib/python3.8/site-packages/IPython/core/interactiveshell.py:3146: DtypeWarning: Columns (1,2,3) have mixed types.Specify dtype option on import or set low_memory=False.\n",
      "  has_raised = await self.run_ast_nodes(code_ast.body, cell_name,\n"
     ]
    }
   ],
   "source": [
    "stocknet = pd.read_csv(\"/Users/kelseyesposito/finBERT/stocknet/stocknet_data.csv\")\n",
    "# reduced_dataset = pd.read_csv(\"\")"
   ]
  },
  {
   "cell_type": "code",
   "execution_count": 115,
   "metadata": {
    "scrolled": true
   },
   "outputs": [
    {
     "data": {
      "text/plain": [
       "119835"
      ]
     },
     "execution_count": 115,
     "metadata": {},
     "output_type": "execute_result"
    }
   ],
   "source": [
    "stocknet = stocknet[[\"date\", \"ticker\", \"text\"]]\n",
    "stocknet[\"date\"] = pd.to_datetime(stocknet[\"date\"], errors=\"coerce\")\n",
    "stocknet.dropna(inplace=True)\n",
    "stocknet.reset_index(drop=True, inplace=True)\n",
    "stocknet.head()"
   ]
  },
  {
   "cell_type": "markdown",
   "metadata": {},
   "source": [
    "## Append the datasets and reformat"
   ]
  },
  {
   "cell_type": "code",
   "execution_count": 109,
   "metadata": {},
   "outputs": [
    {
     "data": {
      "text/html": [
       "<div>\n",
       "<style scoped>\n",
       "    .dataframe tbody tr th:only-of-type {\n",
       "        vertical-align: middle;\n",
       "    }\n",
       "\n",
       "    .dataframe tbody tr th {\n",
       "        vertical-align: top;\n",
       "    }\n",
       "\n",
       "    .dataframe thead th {\n",
       "        text-align: right;\n",
       "    }\n",
       "</style>\n",
       "<table border=\"1\" class=\"dataframe\">\n",
       "  <thead>\n",
       "    <tr style=\"text-align: right;\">\n",
       "      <th></th>\n",
       "      <th>date</th>\n",
       "      <th>ticker</th>\n",
       "      <th>text</th>\n",
       "    </tr>\n",
       "  </thead>\n",
       "  <tbody>\n",
       "    <tr>\n",
       "      <th>0</th>\n",
       "      <td>2018-07-18 21:33:26+00:00</td>\n",
       "      <td>GS</td>\n",
       "      <td>VIDEO: “I was in my office. I was minding my o...</td>\n",
       "    </tr>\n",
       "    <tr>\n",
       "      <th>1</th>\n",
       "      <td>2018-07-18 22:22:47+00:00</td>\n",
       "      <td>M</td>\n",
       "      <td>The price of lumber $LB_F is down 22% since hi...</td>\n",
       "    </tr>\n",
       "    <tr>\n",
       "      <th>2</th>\n",
       "      <td>2018-07-18 22:32:01+00:00</td>\n",
       "      <td>AIG</td>\n",
       "      <td>Who says the American Dream is dead? https://t...</td>\n",
       "    </tr>\n",
       "    <tr>\n",
       "      <th>3</th>\n",
       "      <td>2018-07-18 22:52:52+00:00</td>\n",
       "      <td>BTC</td>\n",
       "      <td>Barry Silbert is extremely optimistic on bitco...</td>\n",
       "    </tr>\n",
       "    <tr>\n",
       "      <th>4</th>\n",
       "      <td>2018-07-18 23:00:01+00:00</td>\n",
       "      <td>ORCL</td>\n",
       "      <td>How satellites avoid attacks and space junk wh...</td>\n",
       "    </tr>\n",
       "  </tbody>\n",
       "</table>\n",
       "</div>"
      ],
      "text/plain": [
       "                       date ticker  \\\n",
       "0 2018-07-18 21:33:26+00:00     GS   \n",
       "1 2018-07-18 22:22:47+00:00      M   \n",
       "2 2018-07-18 22:32:01+00:00    AIG   \n",
       "3 2018-07-18 22:52:52+00:00    BTC   \n",
       "4 2018-07-18 23:00:01+00:00   ORCL   \n",
       "\n",
       "                                                text  \n",
       "0  VIDEO: “I was in my office. I was minding my o...  \n",
       "1  The price of lumber $LB_F is down 22% since hi...  \n",
       "2  Who says the American Dream is dead? https://t...  \n",
       "3  Barry Silbert is extremely optimistic on bitco...  \n",
       "4  How satellites avoid attacks and space junk wh...  "
      ]
     },
     "execution_count": 109,
     "metadata": {},
     "output_type": "execute_result"
    }
   ],
   "source": [
    "res = stockerbot.append(ccd_new)\n",
    "res = res.append(stocknet)\n",
    "res.reset_index(drop=True, inplace=True)\n",
    "res.head()"
   ]
  },
  {
   "cell_type": "markdown",
   "metadata": {},
   "source": [
    "## Checking details of the data"
   ]
  },
  {
   "cell_type": "code",
   "execution_count": 111,
   "metadata": {
    "scrolled": false
   },
   "outputs": [
    {
     "data": {
      "image/png": "[encoded data removed]",
      "text/plain": [
       "<Figure size 432x288 with 1 Axes>"
      ]
     },
     "metadata": {
      "needs_background": "light"
     },
     "output_type": "display_data"
    }
   ],
   "source": [
    "res.groupby(\"date\").agg(\"count\")[\"ticker\"].plot()\n",
    "plt.title(\"Data Points Per Day in Final DF\");"
   ]
  },
  {
   "cell_type": "code",
   "execution_count": 114,
   "metadata": {},
   "outputs": [
    {
     "name": "stdout",
     "output_type": "stream",
     "text": [
      "The combined data set has  233274  rows.\n",
      "The earliest date is:  2013-12-31 23:10:08+00:00 .\n",
      "The latest date is:  2018-12-09 00:00:00+00:00 .\n"
     ]
    }
   ],
   "source": [
    "print(\"The combined data set has \", len(res), \" rows.\")\n",
    "print(\"The earliest date is: \", res[\"date\"].min(),\".\")\n",
    "print(\"The latest date is: \",  res[\"date\"].max(),\".\")"
   ]
  },
  {
   "cell_type": "code",
   "execution_count": 116,
   "metadata": {},
   "outputs": [],
   "source": [
    "def export_as_csv(df, path):\n",
    "    try:\n",
    "        df.to_csv(path)\n",
    "        print(\"Success\")\n",
    "    except:\n",
    "        print(\"Unable to save to .csv\")"
   ]
  },
  {
   "cell_type": "code",
   "execution_count": 118,
   "metadata": {},
   "outputs": [
    {
     "name": "stdout",
     "output_type": "stream",
     "text": [
      "Success\n"
     ]
    }
   ],
   "source": [
    "export_as_csv(res, \"combined_data.csv\")"
   ]
  }
 ],
 "metadata": {
  "kernelspec": {
   "display_name": "Python 3",
   "language": "python",
   "name": "python3"
  },
  "language_info": {
   "codemirror_mode": {
    "name": "ipython",
    "version": 3
   },
   "file_extension": ".py",
   "mimetype": "text/x-python",
   "name": "python",
   "nbconvert_exporter": "python",
   "pygments_lexer": "ipython3",
   "version": "3.8.5"
  }
 },
 "nbformat": 4,
 "nbformat_minor": 4
}
