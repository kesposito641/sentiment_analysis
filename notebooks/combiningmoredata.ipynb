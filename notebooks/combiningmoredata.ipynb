{
 "cells": [
  {
   "cell_type": "code",
   "execution_count": 13,
   "metadata": {},
   "outputs": [],
   "source": [
    "import pandas as pd\n",
    "import datetime as dt"
   ]
  },
  {
   "cell_type": "markdown",
   "metadata": {},
   "source": [
    "## Add bigboy table to combined"
   ]
  },
  {
   "cell_type": "code",
   "execution_count": 7,
   "metadata": {},
   "outputs": [],
   "source": [
    "tweets = pd.read_csv(\"/Users/kelseyesposito/finBERT/data/sentiment_data/Tweet.csv\")\n",
    "companies = pd.read_csv(\"/Users/kelseyesposito/finBERT/data/sentiment_data/Company_Tweet.csv\")"
   ]
  },
  {
   "cell_type": "code",
   "execution_count": 10,
   "metadata": {},
   "outputs": [
    {
     "data": {
      "text/html": [
       "<div>\n",
       "<style scoped>\n",
       "    .dataframe tbody tr th:only-of-type {\n",
       "        vertical-align: middle;\n",
       "    }\n",
       "\n",
       "    .dataframe tbody tr th {\n",
       "        vertical-align: top;\n",
       "    }\n",
       "\n",
       "    .dataframe thead th {\n",
       "        text-align: right;\n",
       "    }\n",
       "</style>\n",
       "<table border=\"1\" class=\"dataframe\">\n",
       "  <thead>\n",
       "    <tr style=\"text-align: right;\">\n",
       "      <th></th>\n",
       "      <th>tweet_id</th>\n",
       "      <th>post_date</th>\n",
       "      <th>body</th>\n",
       "    </tr>\n",
       "  </thead>\n",
       "  <tbody>\n",
       "    <tr>\n",
       "      <th>0</th>\n",
       "      <td>550441509175443456</td>\n",
       "      <td>1420070457</td>\n",
       "      <td>lx21 made $10,008  on $AAPL -Check it out! htt...</td>\n",
       "    </tr>\n",
       "    <tr>\n",
       "      <th>1</th>\n",
       "      <td>550441672312512512</td>\n",
       "      <td>1420070496</td>\n",
       "      <td>Insanity of today weirdo massive selling. $aap...</td>\n",
       "    </tr>\n",
       "    <tr>\n",
       "      <th>2</th>\n",
       "      <td>550441732014223360</td>\n",
       "      <td>1420070510</td>\n",
       "      <td>S&amp;P100 #Stocks Performance $HD $LOW $SBUX $TGT...</td>\n",
       "    </tr>\n",
       "    <tr>\n",
       "      <th>3</th>\n",
       "      <td>550442977802207232</td>\n",
       "      <td>1420070807</td>\n",
       "      <td>$GM $TSLA: Volkswagen Pushes 2014 Record Recal...</td>\n",
       "    </tr>\n",
       "    <tr>\n",
       "      <th>4</th>\n",
       "      <td>550443807834402816</td>\n",
       "      <td>1420071005</td>\n",
       "      <td>Swing Trading: Up To 8.91% Return In 14 Days h...</td>\n",
       "    </tr>\n",
       "  </tbody>\n",
       "</table>\n",
       "</div>"
      ],
      "text/plain": [
       "             tweet_id   post_date  \\\n",
       "0  550441509175443456  1420070457   \n",
       "1  550441672312512512  1420070496   \n",
       "2  550441732014223360  1420070510   \n",
       "3  550442977802207232  1420070807   \n",
       "4  550443807834402816  1420071005   \n",
       "\n",
       "                                                body  \n",
       "0  lx21 made $10,008  on $AAPL -Check it out! htt...  \n",
       "1  Insanity of today weirdo massive selling. $aap...  \n",
       "2  S&P100 #Stocks Performance $HD $LOW $SBUX $TGT...  \n",
       "3  $GM $TSLA: Volkswagen Pushes 2014 Record Recal...  \n",
       "4  Swing Trading: Up To 8.91% Return In 14 Days h...  "
      ]
     },
     "execution_count": 10,
     "metadata": {},
     "output_type": "execute_result"
    }
   ],
   "source": [
    "# format the tweets\n",
    "tweets_cleaned = tweets\n",
    "tweets_cleaned = tweets_cleaned[[\"tweet_id\", \"post_date\", \"body\"]]\n",
    "tweets_cleaned.head()"
   ]
  },
  {
   "cell_type": "code",
   "execution_count": 12,
   "metadata": {},
   "outputs": [
    {
     "data": {
      "text/plain": [
       "0         1970-01-01 00:00:01.420070457\n",
       "1         1970-01-01 00:00:01.420070496\n",
       "2         1970-01-01 00:00:01.420070510\n",
       "3         1970-01-01 00:00:01.420070807\n",
       "4         1970-01-01 00:00:01.420071005\n",
       "                       ...             \n",
       "3717959   1970-01-01 00:00:01.577836383\n",
       "3717960   1970-01-01 00:00:01.577836401\n",
       "3717961   1970-01-01 00:00:01.577836443\n",
       "3717962   1970-01-01 00:00:01.577836537\n",
       "3717963   1970-01-01 00:00:01.577836553\n",
       "Name: post_date, Length: 3717964, dtype: datetime64[ns]"
      ]
     },
     "execution_count": 12,
     "metadata": {},
     "output_type": "execute_result"
    }
   ],
   "source": []
  },
  {
   "cell_type": "code",
   "execution_count": 18,
   "metadata": {},
   "outputs": [
    {
     "data": {
      "text/plain": [
       "datetime.datetime(2019, 1, 18, 5, 39, 55)"
      ]
     },
     "execution_count": 18,
     "metadata": {},
     "output_type": "execute_result"
    }
   ],
   "source": [
    "dt.datetime.fromtimestamp(tweets_cleaned[\"post_date\"])"
   ]
  },
  {
   "cell_type": "code",
   "execution_count": 23,
   "metadata": {},
   "outputs": [
    {
     "name": "stderr",
     "output_type": "stream",
     "text": [
      "<ipython-input-23-498bf9aae32f>:1: SettingWithCopyWarning: \n",
      "A value is trying to be set on a copy of a slice from a DataFrame.\n",
      "Try using .loc[row_indexer,col_indexer] = value instead\n",
      "\n",
      "See the caveats in the documentation: https://pandas.pydata.org/pandas-docs/stable/user_guide/indexing.html#returning-a-view-versus-a-copy\n",
      "  tweets_cleaned[\"date\"]=tweets_cleaned[\"post_date\"].apply(dt.datetime.fromtimestamp)\n"
     ]
    }
   ],
   "source": [
    "tweets_cleaned[\"date\"]=tweets_cleaned[\"post_date\"].apply(dt.datetime.fromtimestamp)"
   ]
  },
  {
   "cell_type": "code",
   "execution_count": 26,
   "metadata": {},
   "outputs": [
    {
     "data": {
      "text/plain": [
       "<AxesSubplot:xlabel='date'>"
      ]
     },
     "execution_count": 26,
     "metadata": {},
     "output_type": "execute_result"
    },
    {
     "data": {
      "image/png": "[encoded data removed]",
      "text/plain": [
       "<Figure size 432x288 with 1 Axes>"
      ]
     },
     "metadata": {
      "needs_background": "light"
     },
     "output_type": "display_data"
    }
   ],
   "source": [
    "tweets_cleaned.groupby(\"date\").agg(\"count\").plot()"
   ]
  },
  {
   "cell_type": "code",
   "execution_count": 28,
   "metadata": {},
   "outputs": [
    {
     "data": {
      "text/html": [
       "<div>\n",
       "<style scoped>\n",
       "    .dataframe tbody tr th:only-of-type {\n",
       "        vertical-align: middle;\n",
       "    }\n",
       "\n",
       "    .dataframe tbody tr th {\n",
       "        vertical-align: top;\n",
       "    }\n",
       "\n",
       "    .dataframe thead th {\n",
       "        text-align: right;\n",
       "    }\n",
       "</style>\n",
       "<table border=\"1\" class=\"dataframe\">\n",
       "  <thead>\n",
       "    <tr style=\"text-align: right;\">\n",
       "      <th></th>\n",
       "      <th>tweet_id</th>\n",
       "      <th>post_date</th>\n",
       "      <th>body</th>\n",
       "      <th>date</th>\n",
       "    </tr>\n",
       "  </thead>\n",
       "  <tbody>\n",
       "    <tr>\n",
       "      <th>0</th>\n",
       "      <td>550441509175443456</td>\n",
       "      <td>1420070457</td>\n",
       "      <td>lx21 made $10,008  on $AAPL -Check it out! htt...</td>\n",
       "      <td>2014-12-31 19:00:57</td>\n",
       "    </tr>\n",
       "    <tr>\n",
       "      <th>1</th>\n",
       "      <td>550441672312512512</td>\n",
       "      <td>1420070496</td>\n",
       "      <td>Insanity of today weirdo massive selling. $aap...</td>\n",
       "      <td>2014-12-31 19:01:36</td>\n",
       "    </tr>\n",
       "    <tr>\n",
       "      <th>2</th>\n",
       "      <td>550441732014223360</td>\n",
       "      <td>1420070510</td>\n",
       "      <td>S&amp;P100 #Stocks Performance $HD $LOW $SBUX $TGT...</td>\n",
       "      <td>2014-12-31 19:01:50</td>\n",
       "    </tr>\n",
       "    <tr>\n",
       "      <th>3</th>\n",
       "      <td>550442977802207232</td>\n",
       "      <td>1420070807</td>\n",
       "      <td>$GM $TSLA: Volkswagen Pushes 2014 Record Recal...</td>\n",
       "      <td>2014-12-31 19:06:47</td>\n",
       "    </tr>\n",
       "    <tr>\n",
       "      <th>4</th>\n",
       "      <td>550443807834402816</td>\n",
       "      <td>1420071005</td>\n",
       "      <td>Swing Trading: Up To 8.91% Return In 14 Days h...</td>\n",
       "      <td>2014-12-31 19:10:05</td>\n",
       "    </tr>\n",
       "  </tbody>\n",
       "</table>\n",
       "</div>"
      ],
      "text/plain": [
       "             tweet_id   post_date  \\\n",
       "0  550441509175443456  1420070457   \n",
       "1  550441672312512512  1420070496   \n",
       "2  550441732014223360  1420070510   \n",
       "3  550442977802207232  1420070807   \n",
       "4  550443807834402816  1420071005   \n",
       "\n",
       "                                                body                date  \n",
       "0  lx21 made $10,008  on $AAPL -Check it out! htt... 2014-12-31 19:00:57  \n",
       "1  Insanity of today weirdo massive selling. $aap... 2014-12-31 19:01:36  \n",
       "2  S&P100 #Stocks Performance $HD $LOW $SBUX $TGT... 2014-12-31 19:01:50  \n",
       "3  $GM $TSLA: Volkswagen Pushes 2014 Record Recal... 2014-12-31 19:06:47  \n",
       "4  Swing Trading: Up To 8.91% Return In 14 Days h... 2014-12-31 19:10:05  "
      ]
     },
     "execution_count": 28,
     "metadata": {},
     "output_type": "execute_result"
    }
   ],
   "source": [
    "tweets_cleaned.head()"
   ]
  },
  {
   "cell_type": "code",
   "execution_count": 33,
   "metadata": {},
   "outputs": [
    {
     "data": {
      "text/plain": [
       "3717964"
      ]
     },
     "execution_count": 33,
     "metadata": {},
     "output_type": "execute_result"
    }
   ],
   "source": [
    "len(tweets_cleaned)"
   ]
  },
  {
   "cell_type": "code",
   "execution_count": 36,
   "metadata": {},
   "outputs": [
    {
     "data": {
      "text/html": [
       "<div>\n",
       "<style scoped>\n",
       "    .dataframe tbody tr th:only-of-type {\n",
       "        vertical-align: middle;\n",
       "    }\n",
       "\n",
       "    .dataframe tbody tr th {\n",
       "        vertical-align: top;\n",
       "    }\n",
       "\n",
       "    .dataframe thead th {\n",
       "        text-align: right;\n",
       "    }\n",
       "</style>\n",
       "<table border=\"1\" class=\"dataframe\">\n",
       "  <thead>\n",
       "    <tr style=\"text-align: right;\">\n",
       "      <th></th>\n",
       "      <th>date</th>\n",
       "      <th>ticker</th>\n",
       "      <th>text</th>\n",
       "    </tr>\n",
       "  </thead>\n",
       "  <tbody>\n",
       "    <tr>\n",
       "      <th>0</th>\n",
       "      <td>2014-12-31 19:00:57</td>\n",
       "      <td>AAPL</td>\n",
       "      <td>lx21 made $10,008  on $AAPL -Check it out! htt...</td>\n",
       "    </tr>\n",
       "    <tr>\n",
       "      <th>1</th>\n",
       "      <td>2014-12-31 19:01:36</td>\n",
       "      <td>AAPL</td>\n",
       "      <td>Insanity of today weirdo massive selling. $aap...</td>\n",
       "    </tr>\n",
       "    <tr>\n",
       "      <th>2</th>\n",
       "      <td>2014-12-31 19:01:50</td>\n",
       "      <td>AMZN</td>\n",
       "      <td>S&amp;P100 #Stocks Performance $HD $LOW $SBUX $TGT...</td>\n",
       "    </tr>\n",
       "    <tr>\n",
       "      <th>3</th>\n",
       "      <td>2014-12-31 19:06:47</td>\n",
       "      <td>TSLA</td>\n",
       "      <td>$GM $TSLA: Volkswagen Pushes 2014 Record Recal...</td>\n",
       "    </tr>\n",
       "    <tr>\n",
       "      <th>4</th>\n",
       "      <td>2014-12-31 19:10:05</td>\n",
       "      <td>AAPL</td>\n",
       "      <td>Swing Trading: Up To 8.91% Return In 14 Days h...</td>\n",
       "    </tr>\n",
       "  </tbody>\n",
       "</table>\n",
       "</div>"
      ],
      "text/plain": [
       "                 date ticker  \\\n",
       "0 2014-12-31 19:00:57   AAPL   \n",
       "1 2014-12-31 19:01:36   AAPL   \n",
       "2 2014-12-31 19:01:50   AMZN   \n",
       "3 2014-12-31 19:06:47   TSLA   \n",
       "4 2014-12-31 19:10:05   AAPL   \n",
       "\n",
       "                                                text  \n",
       "0  lx21 made $10,008  on $AAPL -Check it out! htt...  \n",
       "1  Insanity of today weirdo massive selling. $aap...  \n",
       "2  S&P100 #Stocks Performance $HD $LOW $SBUX $TGT...  \n",
       "3  $GM $TSLA: Volkswagen Pushes 2014 Record Recal...  \n",
       "4  Swing Trading: Up To 8.91% Return In 14 Days h...  "
      ]
     },
     "execution_count": 36,
     "metadata": {},
     "output_type": "execute_result"
    }
   ],
   "source": [
    "bigboy = pd.merge(tweets_cleaned, companies, on=\"tweet_id\")\n",
    "bigboy = bigboy[[\"date\", \"ticker_symbol\", \"body\"]]\n",
    "bigboy.rename(columns={\"body\":\"text\",\"ticker_symbol\":\"ticker\"}, inplace=True)\n",
    "bigboy.head()"
   ]
  },
  {
   "cell_type": "code",
   "execution_count": 40,
   "metadata": {},
   "outputs": [
    {
     "data": {
      "text/html": [
       "<div>\n",
       "<style scoped>\n",
       "    .dataframe tbody tr th:only-of-type {\n",
       "        vertical-align: middle;\n",
       "    }\n",
       "\n",
       "    .dataframe tbody tr th {\n",
       "        vertical-align: top;\n",
       "    }\n",
       "\n",
       "    .dataframe thead th {\n",
       "        text-align: right;\n",
       "    }\n",
       "</style>\n",
       "<table border=\"1\" class=\"dataframe\">\n",
       "  <thead>\n",
       "    <tr style=\"text-align: right;\">\n",
       "      <th></th>\n",
       "      <th>date</th>\n",
       "      <th>ticker</th>\n",
       "      <th>text</th>\n",
       "    </tr>\n",
       "  </thead>\n",
       "  <tbody>\n",
       "    <tr>\n",
       "      <th>0</th>\n",
       "      <td>2018-07-18 21:33:26+00:00</td>\n",
       "      <td>GS</td>\n",
       "      <td>VIDEO: “I was in my office. I was minding my o...</td>\n",
       "    </tr>\n",
       "    <tr>\n",
       "      <th>1</th>\n",
       "      <td>2018-07-18 22:22:47+00:00</td>\n",
       "      <td>M</td>\n",
       "      <td>The price of lumber $LB_F is down 22% since hi...</td>\n",
       "    </tr>\n",
       "    <tr>\n",
       "      <th>2</th>\n",
       "      <td>2018-07-18 22:32:01+00:00</td>\n",
       "      <td>AIG</td>\n",
       "      <td>Who says the American Dream is dead? https://t...</td>\n",
       "    </tr>\n",
       "    <tr>\n",
       "      <th>3</th>\n",
       "      <td>2018-07-18 22:52:52+00:00</td>\n",
       "      <td>BTC</td>\n",
       "      <td>Barry Silbert is extremely optimistic on bitco...</td>\n",
       "    </tr>\n",
       "    <tr>\n",
       "      <th>4</th>\n",
       "      <td>2018-07-18 23:00:01+00:00</td>\n",
       "      <td>ORCL</td>\n",
       "      <td>How satellites avoid attacks and space junk wh...</td>\n",
       "    </tr>\n",
       "  </tbody>\n",
       "</table>\n",
       "</div>"
      ],
      "text/plain": [
       "                        date ticker  \\\n",
       "0  2018-07-18 21:33:26+00:00     GS   \n",
       "1  2018-07-18 22:22:47+00:00      M   \n",
       "2  2018-07-18 22:32:01+00:00    AIG   \n",
       "3  2018-07-18 22:52:52+00:00    BTC   \n",
       "4  2018-07-18 23:00:01+00:00   ORCL   \n",
       "\n",
       "                                                text  \n",
       "0  VIDEO: “I was in my office. I was minding my o...  \n",
       "1  The price of lumber $LB_F is down 22% since hi...  \n",
       "2  Who says the American Dream is dead? https://t...  \n",
       "3  Barry Silbert is extremely optimistic on bitco...  \n",
       "4  How satellites avoid attacks and space junk wh...  "
      ]
     },
     "execution_count": 40,
     "metadata": {},
     "output_type": "execute_result"
    }
   ],
   "source": [
    "combined = pd.read_csv(\"/Users/kelseyesposito/finBERT/data/sentiment_data/combined_data.csv\")[[\"date\", \"ticker\", \"text\"]]\n",
    "combined.head()"
   ]
  },
  {
   "cell_type": "code",
   "execution_count": 71,
   "metadata": {},
   "outputs": [
    {
     "data": {
      "text/html": [
       "<div>\n",
       "<style scoped>\n",
       "    .dataframe tbody tr th:only-of-type {\n",
       "        vertical-align: middle;\n",
       "    }\n",
       "\n",
       "    .dataframe tbody tr th {\n",
       "        vertical-align: top;\n",
       "    }\n",
       "\n",
       "    .dataframe thead th {\n",
       "        text-align: right;\n",
       "    }\n",
       "</style>\n",
       "<table border=\"1\" class=\"dataframe\">\n",
       "  <thead>\n",
       "    <tr style=\"text-align: right;\">\n",
       "      <th></th>\n",
       "      <th>date</th>\n",
       "      <th>ticker</th>\n",
       "      <th>text</th>\n",
       "    </tr>\n",
       "  </thead>\n",
       "  <tbody>\n",
       "    <tr>\n",
       "      <th>0</th>\n",
       "      <td>2018-07-18 21:33:26+00:00</td>\n",
       "      <td>GS</td>\n",
       "      <td>VIDEO: “I was in my office. I was minding my o...</td>\n",
       "    </tr>\n",
       "    <tr>\n",
       "      <th>1</th>\n",
       "      <td>2018-07-18 22:22:47+00:00</td>\n",
       "      <td>M</td>\n",
       "      <td>The price of lumber $LB_F is down 22% since hi...</td>\n",
       "    </tr>\n",
       "    <tr>\n",
       "      <th>2</th>\n",
       "      <td>2018-07-18 22:32:01+00:00</td>\n",
       "      <td>AIG</td>\n",
       "      <td>Who says the American Dream is dead? https://t...</td>\n",
       "    </tr>\n",
       "    <tr>\n",
       "      <th>3</th>\n",
       "      <td>2018-07-18 22:52:52+00:00</td>\n",
       "      <td>BTC</td>\n",
       "      <td>Barry Silbert is extremely optimistic on bitco...</td>\n",
       "    </tr>\n",
       "    <tr>\n",
       "      <th>4</th>\n",
       "      <td>2018-07-18 23:00:01+00:00</td>\n",
       "      <td>ORCL</td>\n",
       "      <td>How satellites avoid attacks and space junk wh...</td>\n",
       "    </tr>\n",
       "  </tbody>\n",
       "</table>\n",
       "</div>"
      ],
      "text/plain": [
       "                        date ticker  \\\n",
       "0  2018-07-18 21:33:26+00:00     GS   \n",
       "1  2018-07-18 22:22:47+00:00      M   \n",
       "2  2018-07-18 22:32:01+00:00    AIG   \n",
       "3  2018-07-18 22:52:52+00:00    BTC   \n",
       "4  2018-07-18 23:00:01+00:00   ORCL   \n",
       "\n",
       "                                                text  \n",
       "0  VIDEO: “I was in my office. I was minding my o...  \n",
       "1  The price of lumber $LB_F is down 22% since hi...  \n",
       "2  Who says the American Dream is dead? https://t...  \n",
       "3  Barry Silbert is extremely optimistic on bitco...  \n",
       "4  How satellites avoid attacks and space junk wh...  "
      ]
     },
     "execution_count": 71,
     "metadata": {},
     "output_type": "execute_result"
    }
   ],
   "source": [
    "super_combined = combined.append(bigboy)\n",
    "super_combined.reset_index(drop=True, inplace=True)\n",
    "super_combined.head()"
   ]
  },
  {
   "cell_type": "code",
   "execution_count": 72,
   "metadata": {},
   "outputs": [],
   "source": [
    "super_combined[\"date1\"] = pd.to_datetime(super_combined[\"date\"])"
   ]
  },
  {
   "cell_type": "code",
   "execution_count": 73,
   "metadata": {},
   "outputs": [],
   "source": [
    "super_combined[\"date2\"] = super_combined[\"date1\"].dt.strftime('%m-%d-%Y')"
   ]
  },
  {
   "cell_type": "code",
   "execution_count": 74,
   "metadata": {},
   "outputs": [
    {
     "data": {
      "text/html": [
       "<div>\n",
       "<style scoped>\n",
       "    .dataframe tbody tr th:only-of-type {\n",
       "        vertical-align: middle;\n",
       "    }\n",
       "\n",
       "    .dataframe tbody tr th {\n",
       "        vertical-align: top;\n",
       "    }\n",
       "\n",
       "    .dataframe thead th {\n",
       "        text-align: right;\n",
       "    }\n",
       "</style>\n",
       "<table border=\"1\" class=\"dataframe\">\n",
       "  <thead>\n",
       "    <tr style=\"text-align: right;\">\n",
       "      <th></th>\n",
       "      <th>date</th>\n",
       "      <th>ticker</th>\n",
       "      <th>text</th>\n",
       "      <th>date1</th>\n",
       "      <th>date2</th>\n",
       "    </tr>\n",
       "  </thead>\n",
       "  <tbody>\n",
       "    <tr>\n",
       "      <th>0</th>\n",
       "      <td>2018-07-18 21:33:26+00:00</td>\n",
       "      <td>GS</td>\n",
       "      <td>VIDEO: “I was in my office. I was minding my o...</td>\n",
       "      <td>2018-07-18 21:33:26+00:00</td>\n",
       "      <td>07-18-2018</td>\n",
       "    </tr>\n",
       "    <tr>\n",
       "      <th>1</th>\n",
       "      <td>2018-07-18 22:22:47+00:00</td>\n",
       "      <td>M</td>\n",
       "      <td>The price of lumber $LB_F is down 22% since hi...</td>\n",
       "      <td>2018-07-18 22:22:47+00:00</td>\n",
       "      <td>07-18-2018</td>\n",
       "    </tr>\n",
       "    <tr>\n",
       "      <th>2</th>\n",
       "      <td>2018-07-18 22:32:01+00:00</td>\n",
       "      <td>AIG</td>\n",
       "      <td>Who says the American Dream is dead? https://t...</td>\n",
       "      <td>2018-07-18 22:32:01+00:00</td>\n",
       "      <td>07-18-2018</td>\n",
       "    </tr>\n",
       "    <tr>\n",
       "      <th>3</th>\n",
       "      <td>2018-07-18 22:52:52+00:00</td>\n",
       "      <td>BTC</td>\n",
       "      <td>Barry Silbert is extremely optimistic on bitco...</td>\n",
       "      <td>2018-07-18 22:52:52+00:00</td>\n",
       "      <td>07-18-2018</td>\n",
       "    </tr>\n",
       "    <tr>\n",
       "      <th>4</th>\n",
       "      <td>2018-07-18 23:00:01+00:00</td>\n",
       "      <td>ORCL</td>\n",
       "      <td>How satellites avoid attacks and space junk wh...</td>\n",
       "      <td>2018-07-18 23:00:01+00:00</td>\n",
       "      <td>07-18-2018</td>\n",
       "    </tr>\n",
       "  </tbody>\n",
       "</table>\n",
       "</div>"
      ],
      "text/plain": [
       "                        date ticker  \\\n",
       "0  2018-07-18 21:33:26+00:00     GS   \n",
       "1  2018-07-18 22:22:47+00:00      M   \n",
       "2  2018-07-18 22:32:01+00:00    AIG   \n",
       "3  2018-07-18 22:52:52+00:00    BTC   \n",
       "4  2018-07-18 23:00:01+00:00   ORCL   \n",
       "\n",
       "                                                text  \\\n",
       "0  VIDEO: “I was in my office. I was minding my o...   \n",
       "1  The price of lumber $LB_F is down 22% since hi...   \n",
       "2  Who says the American Dream is dead? https://t...   \n",
       "3  Barry Silbert is extremely optimistic on bitco...   \n",
       "4  How satellites avoid attacks and space junk wh...   \n",
       "\n",
       "                      date1       date2  \n",
       "0 2018-07-18 21:33:26+00:00  07-18-2018  \n",
       "1 2018-07-18 22:22:47+00:00  07-18-2018  \n",
       "2 2018-07-18 22:32:01+00:00  07-18-2018  \n",
       "3 2018-07-18 22:52:52+00:00  07-18-2018  \n",
       "4 2018-07-18 23:00:01+00:00  07-18-2018  "
      ]
     },
     "execution_count": 74,
     "metadata": {},
     "output_type": "execute_result"
    }
   ],
   "source": [
    "super_combined.head()"
   ]
  },
  {
   "cell_type": "code",
   "execution_count": 75,
   "metadata": {},
   "outputs": [
    {
     "data": {
      "text/html": [
       "<div>\n",
       "<style scoped>\n",
       "    .dataframe tbody tr th:only-of-type {\n",
       "        vertical-align: middle;\n",
       "    }\n",
       "\n",
       "    .dataframe tbody tr th {\n",
       "        vertical-align: top;\n",
       "    }\n",
       "\n",
       "    .dataframe thead th {\n",
       "        text-align: right;\n",
       "    }\n",
       "</style>\n",
       "<table border=\"1\" class=\"dataframe\">\n",
       "  <thead>\n",
       "    <tr style=\"text-align: right;\">\n",
       "      <th></th>\n",
       "      <th>date</th>\n",
       "      <th>ticker</th>\n",
       "      <th>text</th>\n",
       "    </tr>\n",
       "  </thead>\n",
       "  <tbody>\n",
       "    <tr>\n",
       "      <th>0</th>\n",
       "      <td>2014-01-01</td>\n",
       "      <td>T</td>\n",
       "      <td>HAPPY NEW YEARS TO MY N$T SQUAD @AhColdKelo @b...</td>\n",
       "    </tr>\n",
       "    <tr>\n",
       "      <th>1</th>\n",
       "      <td>2014-01-01</td>\n",
       "      <td>HD</td>\n",
       "      <td>Dow #Stocks Trend $AXP $UTX $CSCO $KO $HD $DIS...</td>\n",
       "    </tr>\n",
       "    <tr>\n",
       "      <th>2</th>\n",
       "      <td>2014-01-01</td>\n",
       "      <td>HD</td>\n",
       "      <td>$HD Analysis Scarred U.S. consumers a hard sel...</td>\n",
       "    </tr>\n",
       "    <tr>\n",
       "      <th>3</th>\n",
       "      <td>2014-01-01</td>\n",
       "      <td>BAC</td>\n",
       "      <td>$BAC - Eleven companies that had a great run i...</td>\n",
       "    </tr>\n",
       "    <tr>\n",
       "      <th>4</th>\n",
       "      <td>2014-01-01</td>\n",
       "      <td>GOOG</td>\n",
       "      <td>$GOOG Removing Edits in a Document, and Minimi...</td>\n",
       "    </tr>\n",
       "  </tbody>\n",
       "</table>\n",
       "</div>"
      ],
      "text/plain": [
       "        date ticker                                               text\n",
       "0 2014-01-01      T  HAPPY NEW YEARS TO MY N$T SQUAD @AhColdKelo @b...\n",
       "1 2014-01-01     HD  Dow #Stocks Trend $AXP $UTX $CSCO $KO $HD $DIS...\n",
       "2 2014-01-01     HD  $HD Analysis Scarred U.S. consumers a hard sel...\n",
       "3 2014-01-01    BAC  $BAC - Eleven companies that had a great run i...\n",
       "4 2014-01-01   GOOG  $GOOG Removing Edits in a Document, and Minimi..."
      ]
     },
     "execution_count": 75,
     "metadata": {},
     "output_type": "execute_result"
    }
   ],
   "source": [
    "super_combined = super_combined[[\"date2\",\"ticker\",\"text\"]]\n",
    "super_combined.sort_values(by=\"date2\", inplace=True)\n",
    "super_combined.reset_index(drop=True, inplace=True)\n",
    "super_combined.rename(columns={\"date2\":\"date\"}, inplace=True)\n",
    "super_combined[\"date\"] = pd.to_datetime(super_combined[\"date\"])\n",
    "super_combined.head()"
   ]
  },
  {
   "cell_type": "code",
   "execution_count": 79,
   "metadata": {},
   "outputs": [
    {
     "data": {
      "image/png": "[encoded data removed]",
      "text/plain": [
       "<Figure size 432x288 with 1 Axes>"
      ]
     },
     "metadata": {
      "needs_background": "light"
     },
     "output_type": "display_data"
    }
   ],
   "source": [
    "super_combined.groupby(\"date\").agg(\"count\")[\"text\"].plot();"
   ]
  },
  {
   "cell_type": "markdown",
   "metadata": {},
   "source": [
    "## Haig Data"
   ]
  },
  {
   "cell_type": "code",
   "execution_count": 83,
   "metadata": {},
   "outputs": [
    {
     "data": {
      "text/html": [
       "<div>\n",
       "<style scoped>\n",
       "    .dataframe tbody tr th:only-of-type {\n",
       "        vertical-align: middle;\n",
       "    }\n",
       "\n",
       "    .dataframe tbody tr th {\n",
       "        vertical-align: top;\n",
       "    }\n",
       "\n",
       "    .dataframe thead th {\n",
       "        text-align: right;\n",
       "    }\n",
       "</style>\n",
       "<table border=\"1\" class=\"dataframe\">\n",
       "  <thead>\n",
       "    <tr style=\"text-align: right;\">\n",
       "      <th></th>\n",
       "      <th>date</th>\n",
       "      <th>ticker</th>\n",
       "      <th>text</th>\n",
       "    </tr>\n",
       "  </thead>\n",
       "  <tbody>\n",
       "    <tr>\n",
       "      <th>0</th>\n",
       "      <td>2021-02-10</td>\n",
       "      <td>KO</td>\n",
       "      <td>$KO investing more for long-term and dividend....</td>\n",
       "    </tr>\n",
       "    <tr>\n",
       "      <th>1</th>\n",
       "      <td>2021-02-10</td>\n",
       "      <td>KO</td>\n",
       "      <td>$KO Don&amp;#39;t worry guys!! Restaurants pubs an...</td>\n",
       "    </tr>\n",
       "    <tr>\n",
       "      <th>2</th>\n",
       "      <td>2021-02-10</td>\n",
       "      <td>KO</td>\n",
       "      <td>$KO joke. Welp will be adding more lower</td>\n",
       "    </tr>\n",
       "    <tr>\n",
       "      <th>3</th>\n",
       "      <td>2021-02-10</td>\n",
       "      <td>FTEK</td>\n",
       "      <td>$FTEK truly a diamond in the rough</td>\n",
       "    </tr>\n",
       "    <tr>\n",
       "      <th>4</th>\n",
       "      <td>2021-02-10</td>\n",
       "      <td>FTEK</td>\n",
       "      <td>$FTEK upgrade to buy yesterday should help. Le...</td>\n",
       "    </tr>\n",
       "  </tbody>\n",
       "</table>\n",
       "</div>"
      ],
      "text/plain": [
       "         date ticker                                               text\n",
       "0  2021-02-10     KO  $KO investing more for long-term and dividend....\n",
       "1  2021-02-10     KO  $KO Don&#39;t worry guys!! Restaurants pubs an...\n",
       "2  2021-02-10     KO           $KO joke. Welp will be adding more lower\n",
       "3  2021-02-10   FTEK                 $FTEK truly a diamond in the rough\n",
       "4  2021-02-10   FTEK  $FTEK upgrade to buy yesterday should help. Le..."
      ]
     },
     "execution_count": 83,
     "metadata": {},
     "output_type": "execute_result"
    }
   ],
   "source": [
    "# import 2big4git\n",
    "toobig = pd.read_csv(\"/Users/kelseyesposito/finBERT/data/sentiment_data/2Big4Git.csv\")\n",
    "toobig = toobig[[\"date\", \"ticker\", \"text\"]]\n",
    "toobig.head()"
   ]
  },
  {
   "cell_type": "code",
   "execution_count": 85,
   "metadata": {},
   "outputs": [
    {
     "data": {
      "text/html": [
       "<div>\n",
       "<style scoped>\n",
       "    .dataframe tbody tr th:only-of-type {\n",
       "        vertical-align: middle;\n",
       "    }\n",
       "\n",
       "    .dataframe tbody tr th {\n",
       "        vertical-align: top;\n",
       "    }\n",
       "\n",
       "    .dataframe thead th {\n",
       "        text-align: right;\n",
       "    }\n",
       "</style>\n",
       "<table border=\"1\" class=\"dataframe\">\n",
       "  <thead>\n",
       "    <tr style=\"text-align: right;\">\n",
       "      <th></th>\n",
       "      <th>date</th>\n",
       "      <th>ticker</th>\n",
       "      <th>text</th>\n",
       "    </tr>\n",
       "  </thead>\n",
       "  <tbody>\n",
       "    <tr>\n",
       "      <th>0</th>\n",
       "      <td>2021-01-08</td>\n",
       "      <td>KO</td>\n",
       "      <td>$KO love this ticker!! My dividend baby, addin...</td>\n",
       "    </tr>\n",
       "    <tr>\n",
       "      <th>1</th>\n",
       "      <td>2021-01-08</td>\n",
       "      <td>KO</td>\n",
       "      <td>$KO High watch. Let see where this goes, but t...</td>\n",
       "    </tr>\n",
       "    <tr>\n",
       "      <th>2</th>\n",
       "      <td>2021-01-08</td>\n",
       "      <td>KO</td>\n",
       "      <td>$KO they are downgrading because they want in ...</td>\n",
       "    </tr>\n",
       "    <tr>\n",
       "      <th>3</th>\n",
       "      <td>2021-01-08</td>\n",
       "      <td>KO</td>\n",
       "      <td>$KO these will be a major hit! Cant wait! http...</td>\n",
       "    </tr>\n",
       "    <tr>\n",
       "      <th>4</th>\n",
       "      <td>2021-01-08</td>\n",
       "      <td>KO</td>\n",
       "      <td>$KO Just thinking, when marijuana is legalized...</td>\n",
       "    </tr>\n",
       "  </tbody>\n",
       "</table>\n",
       "</div>"
      ],
      "text/plain": [
       "         date ticker                                               text\n",
       "0  2021-01-08     KO  $KO love this ticker!! My dividend baby, addin...\n",
       "1  2021-01-08     KO  $KO High watch. Let see where this goes, but t...\n",
       "2  2021-01-08     KO  $KO they are downgrading because they want in ...\n",
       "3  2021-01-08     KO  $KO these will be a major hit! Cant wait! http...\n",
       "4  2021-01-08     KO  $KO Just thinking, when marijuana is legalized..."
      ]
     },
     "execution_count": 85,
     "metadata": {},
     "output_type": "execute_result"
    }
   ],
   "source": [
    "#dattocsv (drive)\n",
    "dtce = pd.read_csv(\"/Users/kelseyesposito/finBERT/data/sentiment_data/datToCsvEmail.csv\")\n",
    "dtce = dtce[[\"date\",\"ticker\",\"text\"]]\n",
    "dtce.head()"
   ]
  },
  {
   "cell_type": "code",
   "execution_count": 90,
   "metadata": {},
   "outputs": [
    {
     "data": {
      "text/html": [
       "<div>\n",
       "<style scoped>\n",
       "    .dataframe tbody tr th:only-of-type {\n",
       "        vertical-align: middle;\n",
       "    }\n",
       "\n",
       "    .dataframe tbody tr th {\n",
       "        vertical-align: top;\n",
       "    }\n",
       "\n",
       "    .dataframe thead th {\n",
       "        text-align: right;\n",
       "    }\n",
       "</style>\n",
       "<table border=\"1\" class=\"dataframe\">\n",
       "  <thead>\n",
       "    <tr style=\"text-align: right;\">\n",
       "      <th></th>\n",
       "      <th>date</th>\n",
       "      <th>ticker</th>\n",
       "      <th>text</th>\n",
       "    </tr>\n",
       "  </thead>\n",
       "  <tbody>\n",
       "    <tr>\n",
       "      <th>0</th>\n",
       "      <td>2020-07-09</td>\n",
       "      <td>AMD</td>\n",
       "      <td>$AMD Ryzen 4000 desktop CPUs looking ‘great’ a...</td>\n",
       "    </tr>\n",
       "    <tr>\n",
       "      <th>1</th>\n",
       "      <td>2020-04-27</td>\n",
       "      <td>UPS</td>\n",
       "      <td>RT @PipsToDollars: Earnings $AMZN $TSLA $MSFT ...</td>\n",
       "    </tr>\n",
       "    <tr>\n",
       "      <th>2</th>\n",
       "      <td>2020-06-06</td>\n",
       "      <td>CRM</td>\n",
       "      <td>How will the future fly for Spirit Air $SAVE ?...</td>\n",
       "    </tr>\n",
       "    <tr>\n",
       "      <th>3</th>\n",
       "      <td>2020-07-01</td>\n",
       "      <td>TSLA</td>\n",
       "      <td>Chile: On The Road to Recovery in 2021? https:...</td>\n",
       "    </tr>\n",
       "    <tr>\n",
       "      <th>4</th>\n",
       "      <td>2020-04-15</td>\n",
       "      <td>DIS</td>\n",
       "      <td>@EpiphronR  China Population 1.3 Billion Reaso...</td>\n",
       "    </tr>\n",
       "  </tbody>\n",
       "</table>\n",
       "</div>"
      ],
      "text/plain": [
       "        date ticker                                               text\n",
       "0 2020-07-09    AMD  $AMD Ryzen 4000 desktop CPUs looking ‘great’ a...\n",
       "1 2020-04-27    UPS  RT @PipsToDollars: Earnings $AMZN $TSLA $MSFT ...\n",
       "2 2020-06-06    CRM  How will the future fly for Spirit Air $SAVE ?...\n",
       "3 2020-07-01   TSLA  Chile: On The Road to Recovery in 2021? https:...\n",
       "4 2020-04-15    DIS  @EpiphronR  China Population 1.3 Billion Reaso..."
      ]
     },
     "execution_count": 90,
     "metadata": {},
     "output_type": "execute_result"
    }
   ],
   "source": [
    "# smolboy\n",
    "smol = pd.read_csv(\"/Users/kelseyesposito/finBERT/data/sentiment_data/smolBoiData.csv\")\n",
    "smol = smol[[\"created_at\", \"ticker\", \"text\"]]\n",
    "smol[\"created_at\"] = pd.to_datetime(smol[\"created_at\"])\n",
    "smol[\"date\"] = smol[\"created_at\"].dt.strftime('%m-%d-%Y')\n",
    "smol['date'] = pd.to_datetime(smol[\"date\"])\n",
    "smol = smol[[\"date\",\"ticker\",\"text\"]]\n",
    "smol.head()"
   ]
  },
  {
   "cell_type": "code",
   "execution_count": 96,
   "metadata": {},
   "outputs": [
    {
     "data": {
      "text/html": [
       "<div>\n",
       "<style scoped>\n",
       "    .dataframe tbody tr th:only-of-type {\n",
       "        vertical-align: middle;\n",
       "    }\n",
       "\n",
       "    .dataframe tbody tr th {\n",
       "        vertical-align: top;\n",
       "    }\n",
       "\n",
       "    .dataframe thead th {\n",
       "        text-align: right;\n",
       "    }\n",
       "</style>\n",
       "<table border=\"1\" class=\"dataframe\">\n",
       "  <thead>\n",
       "    <tr style=\"text-align: right;\">\n",
       "      <th></th>\n",
       "      <th>date</th>\n",
       "      <th>ticker</th>\n",
       "      <th>text</th>\n",
       "    </tr>\n",
       "  </thead>\n",
       "  <tbody>\n",
       "    <tr>\n",
       "      <th>0</th>\n",
       "      <td>01-16-2020</td>\n",
       "      <td>MMM</td>\n",
       "      <td>$MMM fell on hard times but could be set to re...</td>\n",
       "    </tr>\n",
       "    <tr>\n",
       "      <th>1</th>\n",
       "      <td>01-11-2020</td>\n",
       "      <td>MMM</td>\n",
       "      <td>Wolfe Research Upgrades 3M $MMM to ¡§Peer Perf...</td>\n",
       "    </tr>\n",
       "    <tr>\n",
       "      <th>2</th>\n",
       "      <td>01-09-2020</td>\n",
       "      <td>MMM</td>\n",
       "      <td>3M $MMM Upgraded to ¡§Peer Perform¡¨ by Wolfe ...</td>\n",
       "    </tr>\n",
       "    <tr>\n",
       "      <th>3</th>\n",
       "      <td>01-08-2020</td>\n",
       "      <td>MMM</td>\n",
       "      <td>$MMM #insideday follow up as it also opened up...</td>\n",
       "    </tr>\n",
       "    <tr>\n",
       "      <th>4</th>\n",
       "      <td>01-08-2020</td>\n",
       "      <td>MMM</td>\n",
       "      <td>$MMM is best #dividend #stock out there and do...</td>\n",
       "    </tr>\n",
       "  </tbody>\n",
       "</table>\n",
       "</div>"
      ],
      "text/plain": [
       "         date ticker                                               text\n",
       "0  01-16-2020    MMM  $MMM fell on hard times but could be set to re...\n",
       "1  01-11-2020    MMM  Wolfe Research Upgrades 3M $MMM to ¡§Peer Perf...\n",
       "2  01-09-2020    MMM  3M $MMM Upgraded to ¡§Peer Perform¡¨ by Wolfe ...\n",
       "3  01-08-2020    MMM  $MMM #insideday follow up as it also opened up...\n",
       "4  01-08-2020    MMM  $MMM is best #dividend #stock out there and do..."
      ]
     },
     "execution_count": 96,
     "metadata": {},
     "output_type": "execute_result"
    }
   ],
   "source": [
    "# project 6500\n",
    "proj6500 = pd.read_csv(\"/Users/kelseyesposito/finBERT/data/sentiment_data/Project6500.csv\", encoding=\"unicode_escape\")\n",
    "proj6500[\"datetime\"] = pd.to_datetime(proj6500[\"datetime\"])\n",
    "proj6500[\"date\"] = proj6500[\"datetime\"].dt.strftime('%m-%d-%Y')\n",
    "proj6500 = proj6500[[\"date\",\"ticker\",\"headline\"]]\n",
    "proj6500.rename(columns={\"headline\":\"text\"}, inplace=True)\n",
    "proj6500.head()"
   ]
  },
  {
   "cell_type": "code",
   "execution_count": 100,
   "metadata": {},
   "outputs": [
    {
     "data": {
      "text/html": [
       "<div>\n",
       "<style scoped>\n",
       "    .dataframe tbody tr th:only-of-type {\n",
       "        vertical-align: middle;\n",
       "    }\n",
       "\n",
       "    .dataframe tbody tr th {\n",
       "        vertical-align: top;\n",
       "    }\n",
       "\n",
       "    .dataframe thead th {\n",
       "        text-align: right;\n",
       "    }\n",
       "</style>\n",
       "<table border=\"1\" class=\"dataframe\">\n",
       "  <thead>\n",
       "    <tr style=\"text-align: right;\">\n",
       "      <th></th>\n",
       "      <th>date</th>\n",
       "      <th>ticker</th>\n",
       "      <th>text</th>\n",
       "    </tr>\n",
       "  </thead>\n",
       "  <tbody>\n",
       "    <tr>\n",
       "      <th>0</th>\n",
       "      <td>2020-11-12</td>\n",
       "      <td>NOC</td>\n",
       "      <td>$NOC phase 3 data moderna!</td>\n",
       "    </tr>\n",
       "    <tr>\n",
       "      <th>1</th>\n",
       "      <td>2020-11-12</td>\n",
       "      <td>NOC</td>\n",
       "      <td>$NOC cheap buying more</td>\n",
       "    </tr>\n",
       "    <tr>\n",
       "      <th>2</th>\n",
       "      <td>2020-11-12</td>\n",
       "      <td>NOC</td>\n",
       "      <td>$NOC bought.</td>\n",
       "    </tr>\n",
       "    <tr>\n",
       "      <th>3</th>\n",
       "      <td>2020-11-12</td>\n",
       "      <td>NOC</td>\n",
       "      <td>$NOC sold it market coming down</td>\n",
       "    </tr>\n",
       "    <tr>\n",
       "      <th>4</th>\n",
       "      <td>2020-11-12</td>\n",
       "      <td>NMIH</td>\n",
       "      <td>How will this affect the market? $NMIH enters ...</td>\n",
       "    </tr>\n",
       "  </tbody>\n",
       "</table>\n",
       "</div>"
      ],
      "text/plain": [
       "        date ticker                                               text\n",
       "0 2020-11-12    NOC                         $NOC phase 3 data moderna!\n",
       "1 2020-11-12    NOC                             $NOC cheap buying more\n",
       "2 2020-11-12    NOC                                       $NOC bought.\n",
       "3 2020-11-12    NOC                    $NOC sold it market coming down\n",
       "4 2020-11-12   NMIH  How will this affect the market? $NMIH enters ..."
      ]
     },
     "execution_count": 100,
     "metadata": {},
     "output_type": "execute_result"
    }
   ],
   "source": [
    "# dattocsv\n",
    "dtc = pd.read_csv(\"/Users/kelseyesposito/finBERT/data/sentiment_data/datToCsv.csv\")\n",
    "dtc[\"date\"] = pd.to_datetime(dtc[\"date\"])\n",
    "dtc = dtc[[\"date\",\"ticker\",\"text\"]]\n",
    "dtc.head()"
   ]
  },
  {
   "cell_type": "code",
   "execution_count": 103,
   "metadata": {},
   "outputs": [
    {
     "data": {
      "text/html": [
       "<div>\n",
       "<style scoped>\n",
       "    .dataframe tbody tr th:only-of-type {\n",
       "        vertical-align: middle;\n",
       "    }\n",
       "\n",
       "    .dataframe tbody tr th {\n",
       "        vertical-align: top;\n",
       "    }\n",
       "\n",
       "    .dataframe thead th {\n",
       "        text-align: right;\n",
       "    }\n",
       "</style>\n",
       "<table border=\"1\" class=\"dataframe\">\n",
       "  <thead>\n",
       "    <tr style=\"text-align: right;\">\n",
       "      <th></th>\n",
       "      <th>date</th>\n",
       "      <th>ticker</th>\n",
       "      <th>text</th>\n",
       "    </tr>\n",
       "  </thead>\n",
       "  <tbody>\n",
       "    <tr>\n",
       "      <th>0</th>\n",
       "      <td>2020-12-07</td>\n",
       "      <td>CDXS</td>\n",
       "      <td>How will this affect the market? $CDXS MACD Hi...</td>\n",
       "    </tr>\n",
       "    <tr>\n",
       "      <th>1</th>\n",
       "      <td>2020-12-07</td>\n",
       "      <td>CDXS</td>\n",
       "      <td>If youre trading this week, Read This! $CDXS R...</td>\n",
       "    </tr>\n",
       "    <tr>\n",
       "      <th>2</th>\n",
       "      <td>2020-12-07</td>\n",
       "      <td>WEC</td>\n",
       "      <td>$WEC Midwest weather above average.  Cold snap...</td>\n",
       "    </tr>\n",
       "    <tr>\n",
       "      <th>3</th>\n",
       "      <td>2020-12-07</td>\n",
       "      <td>XOMA</td>\n",
       "      <td>Dont miss out on this! $XOMA RSI Indicator lef...</td>\n",
       "    </tr>\n",
       "    <tr>\n",
       "      <th>4</th>\n",
       "      <td>2020-12-07</td>\n",
       "      <td>RARE</td>\n",
       "      <td>$RARE x2.6 profit factor ULTRAGENYX PHARMACEUT...</td>\n",
       "    </tr>\n",
       "  </tbody>\n",
       "</table>\n",
       "</div>"
      ],
      "text/plain": [
       "        date ticker                                               text\n",
       "0 2020-12-07   CDXS  How will this affect the market? $CDXS MACD Hi...\n",
       "1 2020-12-07   CDXS  If youre trading this week, Read This! $CDXS R...\n",
       "2 2020-12-07    WEC  $WEC Midwest weather above average.  Cold snap...\n",
       "3 2020-12-07   XOMA  Dont miss out on this! $XOMA RSI Indicator lef...\n",
       "4 2020-12-07   RARE  $RARE x2.6 profit factor ULTRAGENYX PHARMACEUT..."
      ]
     },
     "execution_count": 103,
     "metadata": {},
     "output_type": "execute_result"
    }
   ],
   "source": [
    "# 2bigforgitoremail\n",
    "tbfgoe = pd.read_csv(\"/Users/kelseyesposito/finBERT/data/sentiment_data/2Big4GitOrEmail.csv\")\n",
    "tbfgoe[\"date\"] = pd.to_datetime(tbfgoe[\"date\"])\n",
    "tbfgoe = tbfgoe[[\"date\",\"ticker\",\"text\"]]\n",
    "tbfgoe.head()"
   ]
  },
  {
   "cell_type": "markdown",
   "metadata": {},
   "source": [
    "## Make super table with bigboy and super combined"
   ]
  },
  {
   "cell_type": "code",
   "execution_count": 111,
   "metadata": {},
   "outputs": [
    {
     "name": "stdout",
     "output_type": "stream",
     "text": [
      "4766191\n"
     ]
    },
    {
     "data": {
      "text/html": [
       "<div>\n",
       "<style scoped>\n",
       "    .dataframe tbody tr th:only-of-type {\n",
       "        vertical-align: middle;\n",
       "    }\n",
       "\n",
       "    .dataframe tbody tr th {\n",
       "        vertical-align: top;\n",
       "    }\n",
       "\n",
       "    .dataframe thead th {\n",
       "        text-align: right;\n",
       "    }\n",
       "</style>\n",
       "<table border=\"1\" class=\"dataframe\">\n",
       "  <thead>\n",
       "    <tr style=\"text-align: right;\">\n",
       "      <th></th>\n",
       "      <th>date</th>\n",
       "      <th>ticker</th>\n",
       "      <th>text</th>\n",
       "    </tr>\n",
       "  </thead>\n",
       "  <tbody>\n",
       "    <tr>\n",
       "      <th>0</th>\n",
       "      <td>2014-01-01 00:00:00</td>\n",
       "      <td>T</td>\n",
       "      <td>HAPPY NEW YEARS TO MY N$T SQUAD @AhColdKelo @b...</td>\n",
       "    </tr>\n",
       "    <tr>\n",
       "      <th>1</th>\n",
       "      <td>2014-01-01 00:00:00</td>\n",
       "      <td>HD</td>\n",
       "      <td>Dow #Stocks Trend $AXP $UTX $CSCO $KO $HD $DIS...</td>\n",
       "    </tr>\n",
       "    <tr>\n",
       "      <th>2</th>\n",
       "      <td>2014-01-01 00:00:00</td>\n",
       "      <td>HD</td>\n",
       "      <td>$HD Analysis Scarred U.S. consumers a hard sel...</td>\n",
       "    </tr>\n",
       "    <tr>\n",
       "      <th>3</th>\n",
       "      <td>2014-01-01 00:00:00</td>\n",
       "      <td>BAC</td>\n",
       "      <td>$BAC - Eleven companies that had a great run i...</td>\n",
       "    </tr>\n",
       "    <tr>\n",
       "      <th>4</th>\n",
       "      <td>2014-01-01 00:00:00</td>\n",
       "      <td>GOOG</td>\n",
       "      <td>$GOOG Removing Edits in a Document, and Minimi...</td>\n",
       "    </tr>\n",
       "  </tbody>\n",
       "</table>\n",
       "</div>"
      ],
      "text/plain": [
       "                  date ticker  \\\n",
       "0  2014-01-01 00:00:00      T   \n",
       "1  2014-01-01 00:00:00     HD   \n",
       "2  2014-01-01 00:00:00     HD   \n",
       "3  2014-01-01 00:00:00    BAC   \n",
       "4  2014-01-01 00:00:00   GOOG   \n",
       "\n",
       "                                                text  \n",
       "0  HAPPY NEW YEARS TO MY N$T SQUAD @AhColdKelo @b...  \n",
       "1  Dow #Stocks Trend $AXP $UTX $CSCO $KO $HD $DIS...  \n",
       "2  $HD Analysis Scarred U.S. consumers a hard sel...  \n",
       "3  $BAC - Eleven companies that had a great run i...  \n",
       "4  $GOOG Removing Edits in a Document, and Minimi...  "
      ]
     },
     "execution_count": 111,
     "metadata": {},
     "output_type": "execute_result"
    }
   ],
   "source": [
    "biggestboi = super_combined.append(toobig)\n",
    "print(len(biggestboi))\n",
    "biggestboi.head()"
   ]
  },
  {
   "cell_type": "code",
   "execution_count": 112,
   "metadata": {},
   "outputs": [
    {
     "name": "stdout",
     "output_type": "stream",
     "text": [
      "4923734\n"
     ]
    },
    {
     "data": {
      "text/html": [
       "<div>\n",
       "<style scoped>\n",
       "    .dataframe tbody tr th:only-of-type {\n",
       "        vertical-align: middle;\n",
       "    }\n",
       "\n",
       "    .dataframe tbody tr th {\n",
       "        vertical-align: top;\n",
       "    }\n",
       "\n",
       "    .dataframe thead th {\n",
       "        text-align: right;\n",
       "    }\n",
       "</style>\n",
       "<table border=\"1\" class=\"dataframe\">\n",
       "  <thead>\n",
       "    <tr style=\"text-align: right;\">\n",
       "      <th></th>\n",
       "      <th>date</th>\n",
       "      <th>ticker</th>\n",
       "      <th>text</th>\n",
       "    </tr>\n",
       "  </thead>\n",
       "  <tbody>\n",
       "    <tr>\n",
       "      <th>0</th>\n",
       "      <td>2014-01-01 00:00:00</td>\n",
       "      <td>T</td>\n",
       "      <td>HAPPY NEW YEARS TO MY N$T SQUAD @AhColdKelo @b...</td>\n",
       "    </tr>\n",
       "    <tr>\n",
       "      <th>1</th>\n",
       "      <td>2014-01-01 00:00:00</td>\n",
       "      <td>HD</td>\n",
       "      <td>Dow #Stocks Trend $AXP $UTX $CSCO $KO $HD $DIS...</td>\n",
       "    </tr>\n",
       "    <tr>\n",
       "      <th>2</th>\n",
       "      <td>2014-01-01 00:00:00</td>\n",
       "      <td>HD</td>\n",
       "      <td>$HD Analysis Scarred U.S. consumers a hard sel...</td>\n",
       "    </tr>\n",
       "    <tr>\n",
       "      <th>3</th>\n",
       "      <td>2014-01-01 00:00:00</td>\n",
       "      <td>BAC</td>\n",
       "      <td>$BAC - Eleven companies that had a great run i...</td>\n",
       "    </tr>\n",
       "    <tr>\n",
       "      <th>4</th>\n",
       "      <td>2014-01-01 00:00:00</td>\n",
       "      <td>GOOG</td>\n",
       "      <td>$GOOG Removing Edits in a Document, and Minimi...</td>\n",
       "    </tr>\n",
       "  </tbody>\n",
       "</table>\n",
       "</div>"
      ],
      "text/plain": [
       "                  date ticker  \\\n",
       "0  2014-01-01 00:00:00      T   \n",
       "1  2014-01-01 00:00:00     HD   \n",
       "2  2014-01-01 00:00:00     HD   \n",
       "3  2014-01-01 00:00:00    BAC   \n",
       "4  2014-01-01 00:00:00   GOOG   \n",
       "\n",
       "                                                text  \n",
       "0  HAPPY NEW YEARS TO MY N$T SQUAD @AhColdKelo @b...  \n",
       "1  Dow #Stocks Trend $AXP $UTX $CSCO $KO $HD $DIS...  \n",
       "2  $HD Analysis Scarred U.S. consumers a hard sel...  \n",
       "3  $BAC - Eleven companies that had a great run i...  \n",
       "4  $GOOG Removing Edits in a Document, and Minimi...  "
      ]
     },
     "execution_count": 112,
     "metadata": {},
     "output_type": "execute_result"
    }
   ],
   "source": [
    "biggestboi = biggestboi.append(dtce)\n",
    "print(len(biggestboi))\n",
    "biggestboi.head()"
   ]
  },
  {
   "cell_type": "code",
   "execution_count": 113,
   "metadata": {},
   "outputs": [
    {
     "name": "stdout",
     "output_type": "stream",
     "text": [
      "4925623\n"
     ]
    },
    {
     "data": {
      "text/html": [
       "<div>\n",
       "<style scoped>\n",
       "    .dataframe tbody tr th:only-of-type {\n",
       "        vertical-align: middle;\n",
       "    }\n",
       "\n",
       "    .dataframe tbody tr th {\n",
       "        vertical-align: top;\n",
       "    }\n",
       "\n",
       "    .dataframe thead th {\n",
       "        text-align: right;\n",
       "    }\n",
       "</style>\n",
       "<table border=\"1\" class=\"dataframe\">\n",
       "  <thead>\n",
       "    <tr style=\"text-align: right;\">\n",
       "      <th></th>\n",
       "      <th>date</th>\n",
       "      <th>ticker</th>\n",
       "      <th>text</th>\n",
       "    </tr>\n",
       "  </thead>\n",
       "  <tbody>\n",
       "    <tr>\n",
       "      <th>0</th>\n",
       "      <td>2014-01-01 00:00:00</td>\n",
       "      <td>T</td>\n",
       "      <td>HAPPY NEW YEARS TO MY N$T SQUAD @AhColdKelo @b...</td>\n",
       "    </tr>\n",
       "    <tr>\n",
       "      <th>1</th>\n",
       "      <td>2014-01-01 00:00:00</td>\n",
       "      <td>HD</td>\n",
       "      <td>Dow #Stocks Trend $AXP $UTX $CSCO $KO $HD $DIS...</td>\n",
       "    </tr>\n",
       "    <tr>\n",
       "      <th>2</th>\n",
       "      <td>2014-01-01 00:00:00</td>\n",
       "      <td>HD</td>\n",
       "      <td>$HD Analysis Scarred U.S. consumers a hard sel...</td>\n",
       "    </tr>\n",
       "    <tr>\n",
       "      <th>3</th>\n",
       "      <td>2014-01-01 00:00:00</td>\n",
       "      <td>BAC</td>\n",
       "      <td>$BAC - Eleven companies that had a great run i...</td>\n",
       "    </tr>\n",
       "    <tr>\n",
       "      <th>4</th>\n",
       "      <td>2014-01-01 00:00:00</td>\n",
       "      <td>GOOG</td>\n",
       "      <td>$GOOG Removing Edits in a Document, and Minimi...</td>\n",
       "    </tr>\n",
       "  </tbody>\n",
       "</table>\n",
       "</div>"
      ],
      "text/plain": [
       "                  date ticker  \\\n",
       "0  2014-01-01 00:00:00      T   \n",
       "1  2014-01-01 00:00:00     HD   \n",
       "2  2014-01-01 00:00:00     HD   \n",
       "3  2014-01-01 00:00:00    BAC   \n",
       "4  2014-01-01 00:00:00   GOOG   \n",
       "\n",
       "                                                text  \n",
       "0  HAPPY NEW YEARS TO MY N$T SQUAD @AhColdKelo @b...  \n",
       "1  Dow #Stocks Trend $AXP $UTX $CSCO $KO $HD $DIS...  \n",
       "2  $HD Analysis Scarred U.S. consumers a hard sel...  \n",
       "3  $BAC - Eleven companies that had a great run i...  \n",
       "4  $GOOG Removing Edits in a Document, and Minimi...  "
      ]
     },
     "execution_count": 113,
     "metadata": {},
     "output_type": "execute_result"
    }
   ],
   "source": [
    "biggestboi = biggestboi.append(smol)\n",
    "print(len(biggestboi))\n",
    "biggestboi.head()"
   ]
  },
  {
   "cell_type": "code",
   "execution_count": 114,
   "metadata": {},
   "outputs": [
    {
     "name": "stdout",
     "output_type": "stream",
     "text": [
      "4935093\n"
     ]
    },
    {
     "data": {
      "text/html": [
       "<div>\n",
       "<style scoped>\n",
       "    .dataframe tbody tr th:only-of-type {\n",
       "        vertical-align: middle;\n",
       "    }\n",
       "\n",
       "    .dataframe tbody tr th {\n",
       "        vertical-align: top;\n",
       "    }\n",
       "\n",
       "    .dataframe thead th {\n",
       "        text-align: right;\n",
       "    }\n",
       "</style>\n",
       "<table border=\"1\" class=\"dataframe\">\n",
       "  <thead>\n",
       "    <tr style=\"text-align: right;\">\n",
       "      <th></th>\n",
       "      <th>date</th>\n",
       "      <th>ticker</th>\n",
       "      <th>text</th>\n",
       "    </tr>\n",
       "  </thead>\n",
       "  <tbody>\n",
       "    <tr>\n",
       "      <th>0</th>\n",
       "      <td>2014-01-01 00:00:00</td>\n",
       "      <td>T</td>\n",
       "      <td>HAPPY NEW YEARS TO MY N$T SQUAD @AhColdKelo @b...</td>\n",
       "    </tr>\n",
       "    <tr>\n",
       "      <th>1</th>\n",
       "      <td>2014-01-01 00:00:00</td>\n",
       "      <td>HD</td>\n",
       "      <td>Dow #Stocks Trend $AXP $UTX $CSCO $KO $HD $DIS...</td>\n",
       "    </tr>\n",
       "    <tr>\n",
       "      <th>2</th>\n",
       "      <td>2014-01-01 00:00:00</td>\n",
       "      <td>HD</td>\n",
       "      <td>$HD Analysis Scarred U.S. consumers a hard sel...</td>\n",
       "    </tr>\n",
       "    <tr>\n",
       "      <th>3</th>\n",
       "      <td>2014-01-01 00:00:00</td>\n",
       "      <td>BAC</td>\n",
       "      <td>$BAC - Eleven companies that had a great run i...</td>\n",
       "    </tr>\n",
       "    <tr>\n",
       "      <th>4</th>\n",
       "      <td>2014-01-01 00:00:00</td>\n",
       "      <td>GOOG</td>\n",
       "      <td>$GOOG Removing Edits in a Document, and Minimi...</td>\n",
       "    </tr>\n",
       "  </tbody>\n",
       "</table>\n",
       "</div>"
      ],
      "text/plain": [
       "                  date ticker  \\\n",
       "0  2014-01-01 00:00:00      T   \n",
       "1  2014-01-01 00:00:00     HD   \n",
       "2  2014-01-01 00:00:00     HD   \n",
       "3  2014-01-01 00:00:00    BAC   \n",
       "4  2014-01-01 00:00:00   GOOG   \n",
       "\n",
       "                                                text  \n",
       "0  HAPPY NEW YEARS TO MY N$T SQUAD @AhColdKelo @b...  \n",
       "1  Dow #Stocks Trend $AXP $UTX $CSCO $KO $HD $DIS...  \n",
       "2  $HD Analysis Scarred U.S. consumers a hard sel...  \n",
       "3  $BAC - Eleven companies that had a great run i...  \n",
       "4  $GOOG Removing Edits in a Document, and Minimi...  "
      ]
     },
     "execution_count": 114,
     "metadata": {},
     "output_type": "execute_result"
    }
   ],
   "source": [
    "biggestboi = biggestboi.append(proj6500)\n",
    "print(len(biggestboi))\n",
    "biggestboi.head()"
   ]
  },
  {
   "cell_type": "code",
   "execution_count": 115,
   "metadata": {},
   "outputs": [
    {
     "name": "stdout",
     "output_type": "stream",
     "text": [
      "4976848\n"
     ]
    },
    {
     "data": {
      "text/html": [
       "<div>\n",
       "<style scoped>\n",
       "    .dataframe tbody tr th:only-of-type {\n",
       "        vertical-align: middle;\n",
       "    }\n",
       "\n",
       "    .dataframe tbody tr th {\n",
       "        vertical-align: top;\n",
       "    }\n",
       "\n",
       "    .dataframe thead th {\n",
       "        text-align: right;\n",
       "    }\n",
       "</style>\n",
       "<table border=\"1\" class=\"dataframe\">\n",
       "  <thead>\n",
       "    <tr style=\"text-align: right;\">\n",
       "      <th></th>\n",
       "      <th>date</th>\n",
       "      <th>ticker</th>\n",
       "      <th>text</th>\n",
       "    </tr>\n",
       "  </thead>\n",
       "  <tbody>\n",
       "    <tr>\n",
       "      <th>0</th>\n",
       "      <td>2014-01-01 00:00:00</td>\n",
       "      <td>T</td>\n",
       "      <td>HAPPY NEW YEARS TO MY N$T SQUAD @AhColdKelo @b...</td>\n",
       "    </tr>\n",
       "    <tr>\n",
       "      <th>1</th>\n",
       "      <td>2014-01-01 00:00:00</td>\n",
       "      <td>HD</td>\n",
       "      <td>Dow #Stocks Trend $AXP $UTX $CSCO $KO $HD $DIS...</td>\n",
       "    </tr>\n",
       "    <tr>\n",
       "      <th>2</th>\n",
       "      <td>2014-01-01 00:00:00</td>\n",
       "      <td>HD</td>\n",
       "      <td>$HD Analysis Scarred U.S. consumers a hard sel...</td>\n",
       "    </tr>\n",
       "    <tr>\n",
       "      <th>3</th>\n",
       "      <td>2014-01-01 00:00:00</td>\n",
       "      <td>BAC</td>\n",
       "      <td>$BAC - Eleven companies that had a great run i...</td>\n",
       "    </tr>\n",
       "    <tr>\n",
       "      <th>4</th>\n",
       "      <td>2014-01-01 00:00:00</td>\n",
       "      <td>GOOG</td>\n",
       "      <td>$GOOG Removing Edits in a Document, and Minimi...</td>\n",
       "    </tr>\n",
       "  </tbody>\n",
       "</table>\n",
       "</div>"
      ],
      "text/plain": [
       "                  date ticker  \\\n",
       "0  2014-01-01 00:00:00      T   \n",
       "1  2014-01-01 00:00:00     HD   \n",
       "2  2014-01-01 00:00:00     HD   \n",
       "3  2014-01-01 00:00:00    BAC   \n",
       "4  2014-01-01 00:00:00   GOOG   \n",
       "\n",
       "                                                text  \n",
       "0  HAPPY NEW YEARS TO MY N$T SQUAD @AhColdKelo @b...  \n",
       "1  Dow #Stocks Trend $AXP $UTX $CSCO $KO $HD $DIS...  \n",
       "2  $HD Analysis Scarred U.S. consumers a hard sel...  \n",
       "3  $BAC - Eleven companies that had a great run i...  \n",
       "4  $GOOG Removing Edits in a Document, and Minimi...  "
      ]
     },
     "execution_count": 115,
     "metadata": {},
     "output_type": "execute_result"
    }
   ],
   "source": [
    "biggestboi = biggestboi.append(dtc)\n",
    "print(len(biggestboi))\n",
    "biggestboi.head()"
   ]
  },
  {
   "cell_type": "code",
   "execution_count": 116,
   "metadata": {},
   "outputs": [
    {
     "name": "stdout",
     "output_type": "stream",
     "text": [
      "5073650\n"
     ]
    },
    {
     "data": {
      "text/html": [
       "<div>\n",
       "<style scoped>\n",
       "    .dataframe tbody tr th:only-of-type {\n",
       "        vertical-align: middle;\n",
       "    }\n",
       "\n",
       "    .dataframe tbody tr th {\n",
       "        vertical-align: top;\n",
       "    }\n",
       "\n",
       "    .dataframe thead th {\n",
       "        text-align: right;\n",
       "    }\n",
       "</style>\n",
       "<table border=\"1\" class=\"dataframe\">\n",
       "  <thead>\n",
       "    <tr style=\"text-align: right;\">\n",
       "      <th></th>\n",
       "      <th>date</th>\n",
       "      <th>ticker</th>\n",
       "      <th>text</th>\n",
       "    </tr>\n",
       "  </thead>\n",
       "  <tbody>\n",
       "    <tr>\n",
       "      <th>0</th>\n",
       "      <td>2014-01-01 00:00:00</td>\n",
       "      <td>T</td>\n",
       "      <td>HAPPY NEW YEARS TO MY N$T SQUAD @AhColdKelo @b...</td>\n",
       "    </tr>\n",
       "    <tr>\n",
       "      <th>1</th>\n",
       "      <td>2014-01-01 00:00:00</td>\n",
       "      <td>HD</td>\n",
       "      <td>Dow #Stocks Trend $AXP $UTX $CSCO $KO $HD $DIS...</td>\n",
       "    </tr>\n",
       "    <tr>\n",
       "      <th>2</th>\n",
       "      <td>2014-01-01 00:00:00</td>\n",
       "      <td>HD</td>\n",
       "      <td>$HD Analysis Scarred U.S. consumers a hard sel...</td>\n",
       "    </tr>\n",
       "    <tr>\n",
       "      <th>3</th>\n",
       "      <td>2014-01-01 00:00:00</td>\n",
       "      <td>BAC</td>\n",
       "      <td>$BAC - Eleven companies that had a great run i...</td>\n",
       "    </tr>\n",
       "    <tr>\n",
       "      <th>4</th>\n",
       "      <td>2014-01-01 00:00:00</td>\n",
       "      <td>GOOG</td>\n",
       "      <td>$GOOG Removing Edits in a Document, and Minimi...</td>\n",
       "    </tr>\n",
       "  </tbody>\n",
       "</table>\n",
       "</div>"
      ],
      "text/plain": [
       "                  date ticker  \\\n",
       "0  2014-01-01 00:00:00      T   \n",
       "1  2014-01-01 00:00:00     HD   \n",
       "2  2014-01-01 00:00:00     HD   \n",
       "3  2014-01-01 00:00:00    BAC   \n",
       "4  2014-01-01 00:00:00   GOOG   \n",
       "\n",
       "                                                text  \n",
       "0  HAPPY NEW YEARS TO MY N$T SQUAD @AhColdKelo @b...  \n",
       "1  Dow #Stocks Trend $AXP $UTX $CSCO $KO $HD $DIS...  \n",
       "2  $HD Analysis Scarred U.S. consumers a hard sel...  \n",
       "3  $BAC - Eleven companies that had a great run i...  \n",
       "4  $GOOG Removing Edits in a Document, and Minimi...  "
      ]
     },
     "execution_count": 116,
     "metadata": {},
     "output_type": "execute_result"
    }
   ],
   "source": [
    "biggestboi = biggestboi.append(tbfgoe)\n",
    "print(len(biggestboi))\n",
    "biggestboi.head()"
   ]
  },
  {
   "cell_type": "code",
   "execution_count": 118,
   "metadata": {},
   "outputs": [],
   "source": [
    "biggestboi[\"date\"] = pd.to_datetime(biggestboi[\"date\"])\n",
    "biggestboi[\"date\"] = biggestboi[\"date\"].dt.strftime('%m-%d-%Y')"
   ]
  },
  {
   "cell_type": "code",
   "execution_count": 124,
   "metadata": {},
   "outputs": [],
   "source": [
    "biggestboi.to_csv(\"/Users/kelseyesposito/finBERT/data/sentiment_data/biggestboi.csv\")"
   ]
  },
  {
   "cell_type": "code",
   "execution_count": null,
   "metadata": {},
   "outputs": [],
   "source": []
  }
 ],
 "metadata": {
  "kernelspec": {
   "display_name": "Python 3",
   "language": "python",
   "name": "python3"
  },
  "language_info": {
   "codemirror_mode": {
    "name": "ipython",
    "version": 3
   },
   "file_extension": ".py",
   "mimetype": "text/x-python",
   "name": "python",
   "nbconvert_exporter": "python",
   "pygments_lexer": "ipython3",
   "version": "3.8.5"
  }
 },
 "nbformat": 4,
 "nbformat_minor": 4
}
