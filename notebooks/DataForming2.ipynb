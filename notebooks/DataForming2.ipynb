{
 "cells": [
  {
   "cell_type": "code",
   "execution_count": 1,
   "metadata": {},
   "outputs": [],
   "source": [
    "import pandas as pd\n",
    "import matplotlib.pyplot as plt\n",
    "import seaborn as sns\n",
    "import datetime as dt\n",
    "from datetime import timedelta\n",
    "\n",
    "from yahoo_fin.stock_info import get_data, get_balance_sheet\n",
    "from get_all_tickers import get_tickers as gt # want to use this for tickers data\n",
    "\n",
    "import pandas_market_calendars as mcal\n",
    "\n",
    "import csv\n",
    "\n",
    "from progressbar import ProgressBar"
   ]
  },
  {
   "cell_type": "code",
   "execution_count": 2,
   "metadata": {},
   "outputs": [],
   "source": [
    "sp500 = pd.read_csv('sp500.csv')"
   ]
  },
  {
   "cell_type": "code",
   "execution_count": 3,
   "metadata": {},
   "outputs": [
    {
     "data": {
      "text/html": [
       "<div>\n",
       "<style scoped>\n",
       "    .dataframe tbody tr th:only-of-type {\n",
       "        vertical-align: middle;\n",
       "    }\n",
       "\n",
       "    .dataframe tbody tr th {\n",
       "        vertical-align: top;\n",
       "    }\n",
       "\n",
       "    .dataframe thead th {\n",
       "        text-align: right;\n",
       "    }\n",
       "</style>\n",
       "<table border=\"1\" class=\"dataframe\">\n",
       "  <thead>\n",
       "    <tr style=\"text-align: right;\">\n",
       "      <th></th>\n",
       "      <th>Unnamed: 0</th>\n",
       "      <th>id</th>\n",
       "      <th>date</th>\n",
       "      <th>ticker</th>\n",
       "      <th>text</th>\n",
       "    </tr>\n",
       "  </thead>\n",
       "  <tbody>\n",
       "    <tr>\n",
       "      <th>0</th>\n",
       "      <td>0</td>\n",
       "      <td>0</td>\n",
       "      <td>01-01-2014</td>\n",
       "      <td>T</td>\n",
       "      <td>HAPPY NEW YEARS TO MY N$T SQUAD @AhColdKelo @b...</td>\n",
       "    </tr>\n",
       "    <tr>\n",
       "      <th>1</th>\n",
       "      <td>1</td>\n",
       "      <td>1</td>\n",
       "      <td>01-01-2014</td>\n",
       "      <td>HD</td>\n",
       "      <td>Dow #Stocks Trend $AXP $UTX $CSCO $KO $HD $DIS...</td>\n",
       "    </tr>\n",
       "    <tr>\n",
       "      <th>2</th>\n",
       "      <td>2</td>\n",
       "      <td>2</td>\n",
       "      <td>01-01-2014</td>\n",
       "      <td>HD</td>\n",
       "      <td>$HD Analysis Scarred U.S. consumers a hard sel...</td>\n",
       "    </tr>\n",
       "    <tr>\n",
       "      <th>3</th>\n",
       "      <td>3</td>\n",
       "      <td>3</td>\n",
       "      <td>01-01-2014</td>\n",
       "      <td>BAC</td>\n",
       "      <td>$BAC - Eleven companies that had a great run i...</td>\n",
       "    </tr>\n",
       "    <tr>\n",
       "      <th>4</th>\n",
       "      <td>4</td>\n",
       "      <td>4</td>\n",
       "      <td>01-01-2014</td>\n",
       "      <td>GOOG</td>\n",
       "      <td>$GOOG Removing Edits in a Document, and Minimi...</td>\n",
       "    </tr>\n",
       "  </tbody>\n",
       "</table>\n",
       "</div>"
      ],
      "text/plain": [
       "   Unnamed: 0  id        date ticker  \\\n",
       "0           0   0  01-01-2014      T   \n",
       "1           1   1  01-01-2014     HD   \n",
       "2           2   2  01-01-2014     HD   \n",
       "3           3   3  01-01-2014    BAC   \n",
       "4           4   4  01-01-2014   GOOG   \n",
       "\n",
       "                                                text  \n",
       "0  HAPPY NEW YEARS TO MY N$T SQUAD @AhColdKelo @b...  \n",
       "1  Dow #Stocks Trend $AXP $UTX $CSCO $KO $HD $DIS...  \n",
       "2  $HD Analysis Scarred U.S. consumers a hard sel...  \n",
       "3  $BAC - Eleven companies that had a great run i...  \n",
       "4  $GOOG Removing Edits in a Document, and Minimi...  "
      ]
     },
     "execution_count": 3,
     "metadata": {},
     "output_type": "execute_result"
    }
   ],
   "source": [
    "sp500.head()"
   ]
  },
  {
   "cell_type": "code",
   "execution_count": 4,
   "metadata": {},
   "outputs": [
    {
     "data": {
      "text/plain": [
       "4384749"
      ]
     },
     "execution_count": 4,
     "metadata": {},
     "output_type": "execute_result"
    }
   ],
   "source": [
    "len(sp500)"
   ]
  },
  {
   "cell_type": "code",
   "execution_count": 5,
   "metadata": {},
   "outputs": [
    {
     "data": {
      "text/plain": [
       "4384749"
      ]
     },
     "execution_count": 5,
     "metadata": {},
     "output_type": "execute_result"
    }
   ],
   "source": [
    "sp500['id'].nunique()"
   ]
  },
  {
   "cell_type": "code",
   "execution_count": 6,
   "metadata": {},
   "outputs": [
    {
     "data": {
      "text/plain": [
       "499"
      ]
     },
     "execution_count": 6,
     "metadata": {},
     "output_type": "execute_result"
    }
   ],
   "source": [
    "dailyClose = pd.read_csv('yahoo_daily_sp500.csv')\n",
    "uniqueTickers = dailyClose['ticker'].unique()\n",
    "len(uniqueTickers)"
   ]
  },
  {
   "cell_type": "code",
   "execution_count": 7,
   "metadata": {},
   "outputs": [],
   "source": [
    "dailyClose['date'] = pd.to_datetime(dailyClose['date'])"
   ]
  },
  {
   "cell_type": "code",
   "execution_count": 8,
   "metadata": {},
   "outputs": [],
   "source": [
    "sp500['date'] = pd.to_datetime(sp500['date'])"
   ]
  },
  {
   "cell_type": "code",
   "execution_count": 11,
   "metadata": {},
   "outputs": [],
   "source": [
    "sp500=sp500[['id', 'date', 'ticker']]"
   ]
  },
  {
   "cell_type": "code",
   "execution_count": 10,
   "metadata": {},
   "outputs": [
    {
     "data": {
      "text/html": [
       "<div>\n",
       "<style scoped>\n",
       "    .dataframe tbody tr th:only-of-type {\n",
       "        vertical-align: middle;\n",
       "    }\n",
       "\n",
       "    .dataframe tbody tr th {\n",
       "        vertical-align: top;\n",
       "    }\n",
       "\n",
       "    .dataframe thead th {\n",
       "        text-align: right;\n",
       "    }\n",
       "</style>\n",
       "<table border=\"1\" class=\"dataframe\">\n",
       "  <thead>\n",
       "    <tr style=\"text-align: right;\">\n",
       "      <th></th>\n",
       "      <th>date</th>\n",
       "      <th>ticker</th>\n",
       "      <th>adjclose</th>\n",
       "    </tr>\n",
       "  </thead>\n",
       "  <tbody>\n",
       "    <tr>\n",
       "      <th>891215</th>\n",
       "      <td>2008-09-02</td>\n",
       "      <td>MTD</td>\n",
       "      <td>105.870003</td>\n",
       "    </tr>\n",
       "    <tr>\n",
       "      <th>891216</th>\n",
       "      <td>2008-09-02</td>\n",
       "      <td>WFC</td>\n",
       "      <td>22.260929</td>\n",
       "    </tr>\n",
       "    <tr>\n",
       "      <th>891217</th>\n",
       "      <td>2008-09-02</td>\n",
       "      <td>EQR</td>\n",
       "      <td>23.168758</td>\n",
       "    </tr>\n",
       "    <tr>\n",
       "      <th>891218</th>\n",
       "      <td>2008-09-02</td>\n",
       "      <td>SNPS</td>\n",
       "      <td>21.190001</td>\n",
       "    </tr>\n",
       "    <tr>\n",
       "      <th>891219</th>\n",
       "      <td>2008-09-02</td>\n",
       "      <td>UAA</td>\n",
       "      <td>4.403750</td>\n",
       "    </tr>\n",
       "    <tr>\n",
       "      <th>891220</th>\n",
       "      <td>2008-09-02</td>\n",
       "      <td>MCD</td>\n",
       "      <td>43.610111</td>\n",
       "    </tr>\n",
       "    <tr>\n",
       "      <th>891221</th>\n",
       "      <td>2008-09-02</td>\n",
       "      <td>UNP</td>\n",
       "      <td>31.635942</td>\n",
       "    </tr>\n",
       "    <tr>\n",
       "      <th>891222</th>\n",
       "      <td>2008-09-02</td>\n",
       "      <td>AAPL</td>\n",
       "      <td>5.112499</td>\n",
       "    </tr>\n",
       "    <tr>\n",
       "      <th>891223</th>\n",
       "      <td>2008-09-02</td>\n",
       "      <td>CLX</td>\n",
       "      <td>41.927345</td>\n",
       "    </tr>\n",
       "    <tr>\n",
       "      <th>891224</th>\n",
       "      <td>2008-09-02</td>\n",
       "      <td>SHW</td>\n",
       "      <td>51.617455</td>\n",
       "    </tr>\n",
       "  </tbody>\n",
       "</table>\n",
       "</div>"
      ],
      "text/plain": [
       "             date ticker    adjclose\n",
       "891215 2008-09-02    MTD  105.870003\n",
       "891216 2008-09-02    WFC   22.260929\n",
       "891217 2008-09-02    EQR   23.168758\n",
       "891218 2008-09-02   SNPS   21.190001\n",
       "891219 2008-09-02    UAA    4.403750\n",
       "891220 2008-09-02    MCD   43.610111\n",
       "891221 2008-09-02    UNP   31.635942\n",
       "891222 2008-09-02   AAPL    5.112499\n",
       "891223 2008-09-02    CLX   41.927345\n",
       "891224 2008-09-02    SHW   51.617455"
      ]
     },
     "execution_count": 10,
     "metadata": {},
     "output_type": "execute_result"
    }
   ],
   "source": [
    "dailyClose = dailyClose.loc[dailyClose['date'] > '2008-09-01'][['date', 'ticker', 'adjclose']]\n",
    "dailyClose.head(10)"
   ]
  },
  {
   "cell_type": "code",
   "execution_count": 71,
   "metadata": {},
   "outputs": [],
   "source": [
    "miniTwitter = sp500.loc[sp500['ticker'].isin(uniqueTickers[300:350])].sort_values('date', ascending=True)"
   ]
  },
  {
   "cell_type": "code",
   "execution_count": 72,
   "metadata": {},
   "outputs": [
    {
     "data": {
      "text/plain": [
       "1207265"
      ]
     },
     "execution_count": 72,
     "metadata": {},
     "output_type": "execute_result"
    }
   ],
   "source": [
    "len(miniTwitter)"
   ]
  },
  {
   "cell_type": "code",
   "execution_count": 73,
   "metadata": {
    "scrolled": true
   },
   "outputs": [
    {
     "name": "stderr",
     "output_type": "stream",
     "text": [
      "100% |########################################################################|\n"
     ]
    }
   ],
   "source": [
    "pbar = ProgressBar()\n",
    "\n",
    "file = open(\"Tickers300-349.csv\",\"w\",newline='')\n",
    "alltweets = csv.writer(file)\n",
    "\n",
    "for uniqTicker in pbar(uniqueTickers[300:350]):\n",
    "    tempData = miniTwitter.loc[miniTwitter['ticker'] == uniqTicker]\n",
    "    tempClose = dailyClose.loc[dailyClose['ticker'] == uniqTicker].set_index('date')\n",
    "    \n",
    "    for row in tempData.iterrows():\n",
    "        tempdict = dict()\n",
    "        tweetId = row[1][0]\n",
    "        date = row[1][1]\n",
    "        ticker = row[1][2]\n",
    "        \n",
    "        \n",
    "        try:\n",
    "            tempTimeframe = tempClose.loc[date - timedelta(days=10) : date].tail(6)\n",
    "            dp5 = tempTimeframe['adjclose'].iloc[0]\n",
    "            dp4 = tempTimeframe['adjclose'].iloc[1]\n",
    "            dp3 = tempTimeframe['adjclose'].iloc[2]\n",
    "            dp2 = tempTimeframe['adjclose'].iloc[3]\n",
    "            dp1 = tempTimeframe['adjclose'].iloc[4]\n",
    "            dp0 = tempTimeframe['adjclose'].iloc[5]\n",
    "        except Exception as e:\n",
    "            dp5 = None\n",
    "            dp4 = None\n",
    "            dp3 = None\n",
    "            dp2 = None\n",
    "            dp1 = None\n",
    "            dp0 = None\n",
    "\n",
    "        try:\n",
    "            twoWeeks = tempClose.loc[date + timedelta(days=14): date + timedelta(days=18)].head(1)['adjclose'][0]\n",
    "        except:\n",
    "            twoWeeks = None\n",
    "\n",
    "        try:\n",
    "            threeMonths = tempClose.loc[date + timedelta(days=90): date + timedelta(days=93)].head(1)['adjclose'][0]\n",
    "        except:\n",
    "            threeMonths = None\n",
    "\n",
    "        try:\n",
    "            oneYear = tempClose.loc[date + timedelta(days=365): date + timedelta(days=368)].head(1)['adjclose'][0]\n",
    "        except:\n",
    "            oneYear = None\n",
    "            \n",
    "            \n",
    "        try: \n",
    "            alltweets.writerow([tweetId, date, ticker, dp5, dp4, dp3, dp2, dp1, dp0, twoWeeks, threeMonths, oneYear])\n",
    "        except UnicodeEncodeError as e:\n",
    "            print(e)\n",
    "            \n",
    "file.close()"
   ]
  },
  {
   "cell_type": "code",
   "execution_count": 74,
   "metadata": {},
   "outputs": [
    {
     "data": {
      "text/plain": [
       "1207264"
      ]
     },
     "execution_count": 74,
     "metadata": {},
     "output_type": "execute_result"
    }
   ],
   "source": [
    "recentFile = pd.read_csv('Tickers300-349.csv')\n",
    "len(recentFile)"
   ]
  },
  {
   "cell_type": "code",
   "execution_count": 15,
   "metadata": {},
   "outputs": [],
   "source": [
    "file.close()"
   ]
  },
  {
   "cell_type": "code",
   "execution_count": null,
   "metadata": {},
   "outputs": [],
   "source": [
    "one = pd.read_csv('Tickers0-24.csv', index_col='ID', header=None, names=['ID', 'Date', 'Ticker', '5dp', '4dp', '3dp', '2dp', '1dp', 'DayOf', 'twoWeeks', 'threeMonths', 'oneYear'])\n",
    "two = pd.read_csv('Tickers25-49.csv', index_col='ID', header=None, names=['ID', 'Date', 'Ticker', '5dp', '4dp', '3dp', '2dp', '1dp', 'DayOf', 'twoWeeks', 'threeMonths', 'oneYear'])\n",
    "three = pd.read_csv('Tickers50-74.csv', index_col='ID', header=None, names=['ID', 'Date', 'Ticker', '5dp', '4dp', '3dp', '2dp', '1dp', 'DayOf', 'twoWeeks', 'threeMonths', 'oneYear'])\n",
    "four = pd.read_csv('Tickers75-99.csv', index_col='ID', header=None, names=['ID', 'Date', 'Ticker', '5dp', '4dp', '3dp', '2dp', '1dp', 'DayOf', 'twoWeeks', 'threeMonths', 'oneYear'])\n",
    "five = pd.read_csv('Tickers100-124.csv', index_col='ID', header=None, names=['ID', 'Date', 'Ticker', '5dp', '4dp', '3dp', '2dp', '1dp', 'DayOf', 'twoWeeks', 'threeMonths', 'oneYear'])\n",
    "six = pd.read_csv('Tickers125-149.csv', index_col='ID', header=None, names=['ID', 'Date', 'Ticker', '5dp', '4dp', '3dp', '2dp', '1dp', 'DayOf', 'twoWeeks', 'threeMonths', 'oneYear'])\n",
    "seven = pd.read_csv('Tickers150-174.csv', index_col='ID', header=None, names=['ID', 'Date', 'Ticker', '5dp', '4dp', '3dp', '2dp', '1dp', 'DayOf', 'twoWeeks', 'threeMonths', 'oneYear'])\n",
    "eight = pd.read_csv('Tickers175-199.csv', index_col='ID', header=None, names=['ID', 'Date', 'Ticker', '5dp', '4dp', '3dp', '2dp', '1dp', 'DayOf', 'twoWeeks', 'threeMonths', 'oneYear'])\n",
    "nine = pd.read_csv('Tickers200-224.csv', index_col='ID', header=None, names=['ID', 'Date', 'Ticker', '5dp', '4dp', '3dp', '2dp', '1dp', 'DayOf', 'twoWeeks', 'threeMonths', 'oneYear'])\n",
    "ten = pd.read_csv('Tickers225-249.csv', index_col='ID', header=None, names=['ID', 'Date', 'Ticker', '5dp', '4dp', '3dp', '2dp', '1dp', 'DayOf', 'twoWeeks', 'threeMonths', 'oneYear'])\n",
    "eleven = pd.read_csv('Tickers250-274.csv', index_col='ID', header=None, names=['ID', 'Date', 'Ticker', '5dp', '4dp', '3dp', '2dp', '1dp', 'DayOf', 'twoWeeks', 'threeMonths', 'oneYear'])\n",
    "twelve = pd.read_csv('Tickers275-299.csv', index_col='ID', header=None, names=['ID', 'Date', 'Ticker', '5dp', '4dp', '3dp', '2dp', '1dp', 'DayOf', 'twoWeeks', 'threeMonths', 'oneYear'])\n",
    "thirteen = pd.read_csv('Tickers300-324.csv', index_col='ID', header=None, names=['ID', 'Date', 'Ticker', '5dp', '4dp', '3dp', '2dp', '1dp', 'DayOf', 'twoWeeks', 'threeMonths', 'oneYear'])\n",
    "fourteen = pd.read_csv('Tickers325-349.csv', index_col='ID', header=None, names=['ID', 'Date', 'Ticker', '5dp', '4dp', '3dp', '2dp', '1dp', 'DayOf', 'twoWeeks', 'threeMonths', 'oneYear'])\n",
    "# fifteen = pd.read_csv('Tickers350-374.csv', index_col='ID', header=None, names=['ID', 'Date', 'Ticker', '5dp', '4dp', '3dp', '2dp', '1dp', 'DayOf', 'twoWeeks', 'threeMonths', 'oneYear'])\n",
    "sixteen = pd.read_csv('Tickers375-399.csv', index_col='ID', header=None, names=['ID', 'Date', 'Ticker', '5dp', '4dp', '3dp', '2dp', '1dp', 'DayOf', 'twoWeeks', 'threeMonths', 'oneYear'])\n",
    "seventeen = pd.read_csv('Tickers400-424.csv', index_col='ID', header=None, names=['ID', 'Date', 'Ticker', '5dp', '4dp', '3dp', '2dp', '1dp', 'DayOf', 'twoWeeks', 'threeMonths', 'oneYear'])\n",
    "eighteen = pd.read_csv('Tickers425-449.csv', index_col='ID', header=None, names=['ID', 'Date', 'Ticker', '5dp', '4dp', '3dp', '2dp', '1dp', 'DayOf', 'twoWeeks', 'threeMonths', 'oneYear'])\n",
    "nineteen = pd.read_csv('Tickers450-474.csv', index_col='ID', header=None, names=['ID', 'Date', 'Ticker', '5dp', '4dp', '3dp', '2dp', '1dp', 'DayOf', 'twoWeeks', 'threeMonths', 'oneYear'])\n",
    "twenty = pd.read_csv('Tickers475-End.csv', index_col='ID', header=None, names=['ID', 'Date', 'Ticker', '5dp', '4dp', '3dp', '2dp', '1dp', 'DayOf', 'twoWeeks', 'threeMonths', 'oneYear'])\n"
   ]
  },
  {
   "cell_type": "code",
   "execution_count": null,
   "metadata": {},
   "outputs": [],
   "source": [
    "eighteen.head()"
   ]
  },
  {
   "cell_type": "code",
   "execution_count": null,
   "metadata": {},
   "outputs": [],
   "source": [
    "fifteen = pd.read_csv('Tickers350-374.csv', header=None, names=['ID', 'Date', 'Ticker', '5dp', '4dp', '3dp', '2dp', '1dp', 'DayOf', 'twoWeeks', 'threeMonths', 'oneYear'])\n",
    "len(fifteen)"
   ]
  },
  {
   "cell_type": "code",
   "execution_count": null,
   "metadata": {},
   "outputs": [],
   "source": [
    "fifteen.head()"
   ]
  },
  {
   "cell_type": "code",
   "execution_count": null,
   "metadata": {},
   "outputs": [],
   "source": [
    "fifteen['ID'].dropna(inplace=True)"
   ]
  },
  {
   "cell_type": "code",
   "execution_count": null,
   "metadata": {},
   "outputs": [],
   "source": [
    "len(fifteen)"
   ]
  },
  {
   "cell_type": "code",
   "execution_count": null,
   "metadata": {},
   "outputs": [],
   "source": [
    "fifteen.set_index('ID', inplace=True)"
   ]
  },
  {
   "cell_type": "code",
   "execution_count": null,
   "metadata": {},
   "outputs": [],
   "source": [
    "files = [one, two, three, four, five, six, seven, eight, nine, ten, eleven, twelve, thirteen, fourteen,\n",
    "        fifteen, sixteen, seventeen, eighteen, nineteen, twenty]"
   ]
  },
  {
   "cell_type": "code",
   "execution_count": null,
   "metadata": {},
   "outputs": [],
   "source": [
    "allFiles = pd.concat(files)"
   ]
  },
  {
   "cell_type": "code",
   "execution_count": null,
   "metadata": {},
   "outputs": [],
   "source": [
    "len(allFiles)"
   ]
  },
  {
   "cell_type": "code",
   "execution_count": null,
   "metadata": {},
   "outputs": [],
   "source": [
    "sp500 = allTheTwitter.loc[allTheTwitter['ticker'].isin(uniqueTickers)]"
   ]
  },
  {
   "cell_type": "code",
   "execution_count": null,
   "metadata": {
    "scrolled": true
   },
   "outputs": [],
   "source": [
    "sp500.head()"
   ]
  },
  {
   "cell_type": "code",
   "execution_count": null,
   "metadata": {},
   "outputs": [],
   "source": [
    "allFiles['ID'] = allFiles.index"
   ]
  },
  {
   "cell_type": "code",
   "execution_count": null,
   "metadata": {},
   "outputs": [],
   "source": [
    "allFiles.head()"
   ]
  },
  {
   "cell_type": "code",
   "execution_count": null,
   "metadata": {},
   "outputs": [],
   "source": [
    "len(allFiles)"
   ]
  },
  {
   "cell_type": "code",
   "execution_count": null,
   "metadata": {},
   "outputs": [],
   "source": [
    "allFiles['ID'].nunique()"
   ]
  },
  {
   "cell_type": "code",
   "execution_count": 49,
   "metadata": {},
   "outputs": [],
   "source": [
    "one = pd.read_csv('Tickers1-98.csv', header=None, names=['ID', 'Date', 'Ticker', '5dp', '4dp', '3dp', '2dp', '1dp', 'DayOf', 'twoWeeks', 'threeMonths', 'oneYear'])\n",
    "two = pd.read_csv('Tickers99-199.csv', header=None, names=['ID', 'Date', 'Ticker', '5dp', '4dp', '3dp', '2dp', '1dp', 'DayOf', 'twoWeeks', 'threeMonths', 'oneYear'])\n",
    "three = pd.read_csv('Tickers200-299.csv', header=None, names=['ID', 'Date', 'Ticker', '5dp', '4dp', '3dp', '2dp', '1dp', 'DayOf', 'twoWeeks', 'threeMonths', 'oneYear'])\n",
    "four = pd.read_csv('Tickers300-349.csv', header=None, names=['ID', 'Date', 'Ticker', '5dp', '4dp', '3dp', '2dp', '1dp', 'DayOf', 'twoWeeks', 'threeMonths', 'oneYear'])\n",
    "five = pd.read_csv('Tickers350-399.csv', header=None, names=['ID', 'Date', 'Ticker', '5dp', '4dp', '3dp', '2dp', '1dp', 'DayOf', 'twoWeeks', 'threeMonths', 'oneYear'])\n",
    "six = pd.read_csv('Tickers400-449.csv', header=None, names=['ID', 'Date', 'Ticker', '5dp', '4dp', '3dp', '2dp', '1dp', 'DayOf', 'twoWeeks', 'threeMonths', 'oneYear'])\n",
    "seven = pd.read_csv('Tickers450-End.csv', header=None, names=['ID', 'Date', 'Ticker', '5dp', '4dp', '3dp', '2dp', '1dp', 'DayOf', 'twoWeeks', 'threeMonths', 'oneYear'])\n"
   ]
  },
  {
   "cell_type": "code",
   "execution_count": 76,
   "metadata": {},
   "outputs": [],
   "source": [
    "four = pd.read_csv('Tickers300-349.csv', header=None, names=['ID', 'Date', 'Ticker', '5dp', '4dp', '3dp', '2dp', '1dp', 'DayOf', 'twoWeeks', 'threeMonths', 'oneYear'])"
   ]
  },
  {
   "cell_type": "code",
   "execution_count": 77,
   "metadata": {},
   "outputs": [],
   "source": [
    "allFiles = [one, two, three, four, five, six, seven]"
   ]
  },
  {
   "cell_type": "code",
   "execution_count": 53,
   "metadata": {},
   "outputs": [
    {
     "name": "stderr",
     "output_type": "stream",
     "text": [
      "C:\\Users\\Haig.Bernard\\Anaconda3\\lib\\site-packages\\IPython\\core\\interactiveshell.py:3146: DtypeWarning: Columns (0,1,2,3) have mixed types.Specify dtype option on import or set low_memory=False.\n",
      "  has_raised = await self.run_ast_nodes(code_ast.body, cell_name,\n"
     ]
    }
   ],
   "source": [
    "allTheTwitter = pd.read_csv('allTheTwitter.csv')"
   ]
  },
  {
   "cell_type": "code",
   "execution_count": 54,
   "metadata": {},
   "outputs": [],
   "source": [
    "allTwitter = allTheTwitter.loc[allTheTwitter['ticker'].isin(uniqueTickers)]"
   ]
  },
  {
   "cell_type": "code",
   "execution_count": 78,
   "metadata": {},
   "outputs": [
    {
     "data": {
      "text/plain": [
       "4384749"
      ]
     },
     "execution_count": 78,
     "metadata": {},
     "output_type": "execute_result"
    }
   ],
   "source": [
    "len(allTwitter)"
   ]
  },
  {
   "cell_type": "code",
   "execution_count": 81,
   "metadata": {},
   "outputs": [],
   "source": [
    "allTwitter.columns = ['ID', 'date', 'ticker', 'text']"
   ]
  },
  {
   "cell_type": "code",
   "execution_count": 82,
   "metadata": {},
   "outputs": [
    {
     "data": {
      "text/html": [
       "<div>\n",
       "<style scoped>\n",
       "    .dataframe tbody tr th:only-of-type {\n",
       "        vertical-align: middle;\n",
       "    }\n",
       "\n",
       "    .dataframe tbody tr th {\n",
       "        vertical-align: top;\n",
       "    }\n",
       "\n",
       "    .dataframe thead th {\n",
       "        text-align: right;\n",
       "    }\n",
       "</style>\n",
       "<table border=\"1\" class=\"dataframe\">\n",
       "  <thead>\n",
       "    <tr style=\"text-align: right;\">\n",
       "      <th></th>\n",
       "      <th>ID</th>\n",
       "      <th>date</th>\n",
       "      <th>ticker</th>\n",
       "      <th>text</th>\n",
       "    </tr>\n",
       "  </thead>\n",
       "  <tbody>\n",
       "    <tr>\n",
       "      <th>0</th>\n",
       "      <td>0</td>\n",
       "      <td>01-01-2014</td>\n",
       "      <td>T</td>\n",
       "      <td>HAPPY NEW YEARS TO MY N$T SQUAD @AhColdKelo @b...</td>\n",
       "    </tr>\n",
       "    <tr>\n",
       "      <th>1</th>\n",
       "      <td>1</td>\n",
       "      <td>01-01-2014</td>\n",
       "      <td>HD</td>\n",
       "      <td>Dow #Stocks Trend $AXP $UTX $CSCO $KO $HD $DIS...</td>\n",
       "    </tr>\n",
       "    <tr>\n",
       "      <th>2</th>\n",
       "      <td>2</td>\n",
       "      <td>01-01-2014</td>\n",
       "      <td>HD</td>\n",
       "      <td>$HD Analysis Scarred U.S. consumers a hard sel...</td>\n",
       "    </tr>\n",
       "    <tr>\n",
       "      <th>3</th>\n",
       "      <td>3</td>\n",
       "      <td>01-01-2014</td>\n",
       "      <td>BAC</td>\n",
       "      <td>$BAC - Eleven companies that had a great run i...</td>\n",
       "    </tr>\n",
       "    <tr>\n",
       "      <th>4</th>\n",
       "      <td>4</td>\n",
       "      <td>01-01-2014</td>\n",
       "      <td>GOOG</td>\n",
       "      <td>$GOOG Removing Edits in a Document, and Minimi...</td>\n",
       "    </tr>\n",
       "  </tbody>\n",
       "</table>\n",
       "</div>"
      ],
      "text/plain": [
       "  ID        date ticker                                               text\n",
       "0  0  01-01-2014      T  HAPPY NEW YEARS TO MY N$T SQUAD @AhColdKelo @b...\n",
       "1  1  01-01-2014     HD  Dow #Stocks Trend $AXP $UTX $CSCO $KO $HD $DIS...\n",
       "2  2  01-01-2014     HD  $HD Analysis Scarred U.S. consumers a hard sel...\n",
       "3  3  01-01-2014    BAC  $BAC - Eleven companies that had a great run i...\n",
       "4  4  01-01-2014   GOOG  $GOOG Removing Edits in a Document, and Minimi..."
      ]
     },
     "execution_count": 82,
     "metadata": {},
     "output_type": "execute_result"
    }
   ],
   "source": [
    "allTwitter.head()"
   ]
  },
  {
   "cell_type": "code",
   "execution_count": 92,
   "metadata": {},
   "outputs": [],
   "source": [
    "bigFile = pd.concat(allFiles)"
   ]
  },
  {
   "cell_type": "code",
   "execution_count": 94,
   "metadata": {},
   "outputs": [
    {
     "data": {
      "text/plain": [
       "4384749"
      ]
     },
     "execution_count": 94,
     "metadata": {},
     "output_type": "execute_result"
    }
   ],
   "source": [
    "bigFile['ID'].nunique()"
   ]
  },
  {
   "cell_type": "code",
   "execution_count": 83,
   "metadata": {},
   "outputs": [
    {
     "data": {
      "text/html": [
       "<div>\n",
       "<style scoped>\n",
       "    .dataframe tbody tr th:only-of-type {\n",
       "        vertical-align: middle;\n",
       "    }\n",
       "\n",
       "    .dataframe tbody tr th {\n",
       "        vertical-align: top;\n",
       "    }\n",
       "\n",
       "    .dataframe thead th {\n",
       "        text-align: right;\n",
       "    }\n",
       "</style>\n",
       "<table border=\"1\" class=\"dataframe\">\n",
       "  <thead>\n",
       "    <tr style=\"text-align: right;\">\n",
       "      <th></th>\n",
       "      <th>ID</th>\n",
       "      <th>Date</th>\n",
       "      <th>Ticker</th>\n",
       "      <th>5dp</th>\n",
       "      <th>4dp</th>\n",
       "      <th>3dp</th>\n",
       "      <th>2dp</th>\n",
       "      <th>1dp</th>\n",
       "      <th>DayOf</th>\n",
       "      <th>twoWeeks</th>\n",
       "      <th>threeMonths</th>\n",
       "      <th>oneYear</th>\n",
       "    </tr>\n",
       "  </thead>\n",
       "  <tbody>\n",
       "    <tr>\n",
       "      <th>0</th>\n",
       "      <td>16255035</td>\n",
       "      <td>2012-10-10 00:00:00</td>\n",
       "      <td>CB</td>\n",
       "      <td>64.161308</td>\n",
       "      <td>64.576012</td>\n",
       "      <td>64.799942</td>\n",
       "      <td>64.750191</td>\n",
       "      <td>64.227669</td>\n",
       "      <td>64.310616</td>\n",
       "      <td>66.135254</td>\n",
       "      <td>66.746979</td>\n",
       "      <td>79.021721</td>\n",
       "    </tr>\n",
       "    <tr>\n",
       "      <th>1</th>\n",
       "      <td>16255037</td>\n",
       "      <td>2012-10-23 00:00:00</td>\n",
       "      <td>CB</td>\n",
       "      <td>65.272705</td>\n",
       "      <td>65.762047</td>\n",
       "      <td>67.760857</td>\n",
       "      <td>66.782173</td>\n",
       "      <td>67.089027</td>\n",
       "      <td>66.558258</td>\n",
       "      <td>65.554703</td>\n",
       "      <td>70.802368</td>\n",
       "      <td>81.667946</td>\n",
       "    </tr>\n",
       "    <tr>\n",
       "      <th>2</th>\n",
       "      <td>16255039</td>\n",
       "      <td>2012-10-29 00:00:00</td>\n",
       "      <td>CB</td>\n",
       "      <td>66.782173</td>\n",
       "      <td>67.089027</td>\n",
       "      <td>66.558258</td>\n",
       "      <td>66.135254</td>\n",
       "      <td>66.359200</td>\n",
       "      <td>65.811775</td>\n",
       "      <td>64.318893</td>\n",
       "      <td>70.643837</td>\n",
       "      <td>81.752754</td>\n",
       "    </tr>\n",
       "    <tr>\n",
       "      <th>3</th>\n",
       "      <td>16255040</td>\n",
       "      <td>2013-04-15 00:00:00</td>\n",
       "      <td>CB</td>\n",
       "      <td>75.551559</td>\n",
       "      <td>75.962700</td>\n",
       "      <td>76.306740</td>\n",
       "      <td>77.120636</td>\n",
       "      <td>77.187790</td>\n",
       "      <td>74.519470</td>\n",
       "      <td>74.611794</td>\n",
       "      <td>78.647804</td>\n",
       "      <td>86.000031</td>\n",
       "    </tr>\n",
       "    <tr>\n",
       "      <th>4</th>\n",
       "      <td>16255041</td>\n",
       "      <td>2013-05-09 00:00:00</td>\n",
       "      <td>CB</td>\n",
       "      <td>74.385223</td>\n",
       "      <td>75.434090</td>\n",
       "      <td>76.088585</td>\n",
       "      <td>76.684349</td>\n",
       "      <td>77.414330</td>\n",
       "      <td>77.011574</td>\n",
       "      <td>74.771217</td>\n",
       "      <td>75.730438</td>\n",
       "      <td>88.190636</td>\n",
       "    </tr>\n",
       "  </tbody>\n",
       "</table>\n",
       "</div>"
      ],
      "text/plain": [
       "         ID                 Date Ticker        5dp        4dp        3dp  \\\n",
       "0  16255035  2012-10-10 00:00:00     CB  64.161308  64.576012  64.799942   \n",
       "1  16255037  2012-10-23 00:00:00     CB  65.272705  65.762047  67.760857   \n",
       "2  16255039  2012-10-29 00:00:00     CB  66.782173  67.089027  66.558258   \n",
       "3  16255040  2013-04-15 00:00:00     CB  75.551559  75.962700  76.306740   \n",
       "4  16255041  2013-05-09 00:00:00     CB  74.385223  75.434090  76.088585   \n",
       "\n",
       "         2dp        1dp      DayOf   twoWeeks  threeMonths    oneYear  \n",
       "0  64.750191  64.227669  64.310616  66.135254    66.746979  79.021721  \n",
       "1  66.782173  67.089027  66.558258  65.554703    70.802368  81.667946  \n",
       "2  66.135254  66.359200  65.811775  64.318893    70.643837  81.752754  \n",
       "3  77.120636  77.187790  74.519470  74.611794    78.647804  86.000031  \n",
       "4  76.684349  77.414330  77.011574  74.771217    75.730438  88.190636  "
      ]
     },
     "execution_count": 83,
     "metadata": {},
     "output_type": "execute_result"
    }
   ],
   "source": [
    "bigFile.head()"
   ]
  },
  {
   "cell_type": "code",
   "execution_count": 99,
   "metadata": {},
   "outputs": [],
   "source": [
    "newBigBoi = allTwitter[['ID', 'text']].merge(bigFile, how='inner', on='ID')"
   ]
  },
  {
   "cell_type": "code",
   "execution_count": 100,
   "metadata": {},
   "outputs": [
    {
     "data": {
      "text/plain": [
       "3668700"
      ]
     },
     "execution_count": 100,
     "metadata": {},
     "output_type": "execute_result"
    }
   ],
   "source": [
    "len(newBigBoi)"
   ]
  },
  {
   "cell_type": "code",
   "execution_count": 102,
   "metadata": {},
   "outputs": [
    {
     "data": {
      "text/plain": [
       "484"
      ]
     },
     "execution_count": 102,
     "metadata": {},
     "output_type": "execute_result"
    }
   ],
   "source": [
    "newBigBoi['Ticker'].nunique()"
   ]
  },
  {
   "cell_type": "code",
   "execution_count": 104,
   "metadata": {},
   "outputs": [],
   "source": [
    "newBigBoi.to_csv('mostOfTwitter.csv', header=True)"
   ]
  },
  {
   "cell_type": "code",
   "execution_count": 105,
   "metadata": {},
   "outputs": [
    {
     "data": {
      "text/html": [
       "<div>\n",
       "<style scoped>\n",
       "    .dataframe tbody tr th:only-of-type {\n",
       "        vertical-align: middle;\n",
       "    }\n",
       "\n",
       "    .dataframe tbody tr th {\n",
       "        vertical-align: top;\n",
       "    }\n",
       "\n",
       "    .dataframe thead th {\n",
       "        text-align: right;\n",
       "    }\n",
       "</style>\n",
       "<table border=\"1\" class=\"dataframe\">\n",
       "  <thead>\n",
       "    <tr style=\"text-align: right;\">\n",
       "      <th></th>\n",
       "      <th>ID</th>\n",
       "      <th>text</th>\n",
       "      <th>Date</th>\n",
       "      <th>Ticker</th>\n",
       "      <th>5dp</th>\n",
       "      <th>4dp</th>\n",
       "      <th>3dp</th>\n",
       "      <th>2dp</th>\n",
       "      <th>1dp</th>\n",
       "      <th>DayOf</th>\n",
       "      <th>twoWeeks</th>\n",
       "      <th>threeMonths</th>\n",
       "      <th>oneYear</th>\n",
       "    </tr>\n",
       "  </thead>\n",
       "  <tbody>\n",
       "    <tr>\n",
       "      <th>0</th>\n",
       "      <td>0</td>\n",
       "      <td>HAPPY NEW YEARS TO MY N$T SQUAD @AhColdKelo @b...</td>\n",
       "      <td>2014-01-01 00:00:00</td>\n",
       "      <td>T</td>\n",
       "      <td>23.053471</td>\n",
       "      <td>23.226255</td>\n",
       "      <td>23.365816</td>\n",
       "      <td>23.379099</td>\n",
       "      <td>23.392389</td>\n",
       "      <td>23.365816</td>\n",
       "      <td>22.754858</td>\n",
       "      <td>23.630304</td>\n",
       "      <td>23.715950</td>\n",
       "    </tr>\n",
       "    <tr>\n",
       "      <th>1</th>\n",
       "      <td>1</td>\n",
       "      <td>Dow #Stocks Trend $AXP $UTX $CSCO $KO $HD $DIS...</td>\n",
       "      <td>2014-01-01 00:00:00</td>\n",
       "      <td>HD</td>\n",
       "      <td>68.808685</td>\n",
       "      <td>68.877014</td>\n",
       "      <td>69.654289</td>\n",
       "      <td>69.731133</td>\n",
       "      <td>69.987389</td>\n",
       "      <td>70.329041</td>\n",
       "      <td>69.244316</td>\n",
       "      <td>68.190804</td>\n",
       "      <td>90.250877</td>\n",
       "    </tr>\n",
       "    <tr>\n",
       "      <th>2</th>\n",
       "      <td>2</td>\n",
       "      <td>$HD Analysis Scarred U.S. consumers a hard sel...</td>\n",
       "      <td>2014-01-01 00:00:00</td>\n",
       "      <td>HD</td>\n",
       "      <td>68.808685</td>\n",
       "      <td>68.877014</td>\n",
       "      <td>69.654289</td>\n",
       "      <td>69.731133</td>\n",
       "      <td>69.987389</td>\n",
       "      <td>70.329041</td>\n",
       "      <td>69.244316</td>\n",
       "      <td>68.190804</td>\n",
       "      <td>90.250877</td>\n",
       "    </tr>\n",
       "    <tr>\n",
       "      <th>3</th>\n",
       "      <td>3</td>\n",
       "      <td>$BAC - Eleven companies that had a great run i...</td>\n",
       "      <td>2014-01-01 00:00:00</td>\n",
       "      <td>BAC</td>\n",
       "      <td>13.946872</td>\n",
       "      <td>13.955760</td>\n",
       "      <td>13.911316</td>\n",
       "      <td>13.929094</td>\n",
       "      <td>13.813537</td>\n",
       "      <td>13.840203</td>\n",
       "      <td>15.244671</td>\n",
       "      <td>15.422777</td>\n",
       "      <td>16.026943</td>\n",
       "    </tr>\n",
       "    <tr>\n",
       "      <th>4</th>\n",
       "      <td>3</td>\n",
       "      <td>@Issaquahfunds Hedged our $MSFT position into ...</td>\n",
       "      <td>2014-01-01 00:00:00</td>\n",
       "      <td>BAC</td>\n",
       "      <td>13.946872</td>\n",
       "      <td>13.955760</td>\n",
       "      <td>13.911316</td>\n",
       "      <td>13.929094</td>\n",
       "      <td>13.813537</td>\n",
       "      <td>13.840203</td>\n",
       "      <td>15.244671</td>\n",
       "      <td>15.422777</td>\n",
       "      <td>16.026943</td>\n",
       "    </tr>\n",
       "  </tbody>\n",
       "</table>\n",
       "</div>"
      ],
      "text/plain": [
       "  ID                                               text                 Date  \\\n",
       "0  0  HAPPY NEW YEARS TO MY N$T SQUAD @AhColdKelo @b...  2014-01-01 00:00:00   \n",
       "1  1  Dow #Stocks Trend $AXP $UTX $CSCO $KO $HD $DIS...  2014-01-01 00:00:00   \n",
       "2  2  $HD Analysis Scarred U.S. consumers a hard sel...  2014-01-01 00:00:00   \n",
       "3  3  $BAC - Eleven companies that had a great run i...  2014-01-01 00:00:00   \n",
       "4  3  @Issaquahfunds Hedged our $MSFT position into ...  2014-01-01 00:00:00   \n",
       "\n",
       "  Ticker        5dp        4dp        3dp        2dp        1dp      DayOf  \\\n",
       "0      T  23.053471  23.226255  23.365816  23.379099  23.392389  23.365816   \n",
       "1     HD  68.808685  68.877014  69.654289  69.731133  69.987389  70.329041   \n",
       "2     HD  68.808685  68.877014  69.654289  69.731133  69.987389  70.329041   \n",
       "3    BAC  13.946872  13.955760  13.911316  13.929094  13.813537  13.840203   \n",
       "4    BAC  13.946872  13.955760  13.911316  13.929094  13.813537  13.840203   \n",
       "\n",
       "    twoWeeks  threeMonths    oneYear  \n",
       "0  22.754858    23.630304  23.715950  \n",
       "1  69.244316    68.190804  90.250877  \n",
       "2  69.244316    68.190804  90.250877  \n",
       "3  15.244671    15.422777  16.026943  \n",
       "4  15.244671    15.422777  16.026943  "
      ]
     },
     "execution_count": 105,
     "metadata": {},
     "output_type": "execute_result"
    }
   ],
   "source": [
    "newBigBoi.head()"
   ]
  },
  {
   "cell_type": "code",
   "execution_count": null,
   "metadata": {},
   "outputs": [],
   "source": [
    "test = pd.read_csv('mostOfTwitter.csv')"
   ]
  },
  {
   "cell_type": "code",
   "execution_count": null,
   "metadata": {},
   "outputs": [],
   "source": [
    "len(test)"
   ]
  },
  {
   "cell_type": "code",
   "execution_count": null,
   "metadata": {},
   "outputs": [],
   "source": []
  }
 ],
 "metadata": {
  "kernelspec": {
   "display_name": "Python 3",
   "language": "python",
   "name": "python3"
  },
  "language_info": {
   "codemirror_mode": {
    "name": "ipython",
    "version": 3
   },
   "file_extension": ".py",
   "mimetype": "text/x-python",
   "name": "python",
   "nbconvert_exporter": "python",
   "pygments_lexer": "ipython3",
   "version": "3.8.5"
  }
 },
 "nbformat": 4,
 "nbformat_minor": 4
}
