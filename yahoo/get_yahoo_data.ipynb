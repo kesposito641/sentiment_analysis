{
 "cells": [
  {
   "cell_type": "code",
   "execution_count": 1,
   "id": "valid-religious",
   "metadata": {},
   "outputs": [],
   "source": [
    "import pandas as pd\n",
    "import matplotlib.pyplot as plt\n",
    "import seaborn as sns\n",
    "import datetime as dt\n",
    "\n",
    "from yahoo_fin.stock_info import get_data\n",
    "from get_all_tickers import get_tickers as gt # want to use this for tickers data"
   ]
  },
  {
   "cell_type": "code",
   "execution_count": 2,
   "id": "finnish-adjustment",
   "metadata": {},
   "outputs": [],
   "source": [
    "def load_csv(path):\n",
    "    '''\n",
    "    Loads a csv of the given path and returns as a dataframe\n",
    "    \n",
    "    '''\n",
    "    data = pd.read_csv(path)\n",
    "    \n",
    "    return data"
   ]
  },
  {
   "cell_type": "code",
   "execution_count": 3,
   "id": "played-wisdom",
   "metadata": {},
   "outputs": [],
   "source": [
    "# Load the S&P 500 data\n",
    "stock_twits_path = \"UPDATE\"\n",
    "sp500 = set(load_csv(\"/Users/kelseyesposito/finBERT/stocktwits/s&p500.csv\")[\"Symbol\"])\n",
    "stocks = [\"AMZN\", \"AAPL\", \"GOOG\", \"EBAY\"]"
   ]
  },
  {
   "cell_type": "code",
   "execution_count": 4,
   "id": "relevant-dominican",
   "metadata": {},
   "outputs": [],
   "source": [
    "def pull_yahoo_data(ticker, start, end, dur):\n",
    "    '''\n",
    "    Pulls adjusted close, date, and ticker date for the given stock, start, and end date.\n",
    "    Depending on duration, this can pull daily, weekly, or monthly data\n",
    "    '''\n",
    "    \n",
    "    yahoo = get_data(ticker, start_date=start, end_date=end, index_as_date=False, interval=dur)[[\"date\", \"adjclose\", \"ticker\"]]\n",
    "    return yahoo"
   ]
  },
  {
   "cell_type": "code",
   "execution_count": 5,
   "id": "confident-innocent",
   "metadata": {},
   "outputs": [],
   "source": [
    "# this function will be slow as more stocks are added\n",
    "def get_stocks(stocks=stocks, dur=\"1d\", start=None, end=None): # 1d, 1wk, 1mo\n",
    "    '''\n",
    "    Description of the function\n",
    "    \n",
    "    '''\n",
    "    daily = pd.DataFrame(columns=['date', 'ticker', 'adjclose'])\n",
    "    \n",
    "    for ticker in stocks:\n",
    "        try:\n",
    "            temp = pull_yahoo_data(ticker, start, end, dur)\n",
    "            daily = daily.append(temp)\n",
    "            daily.sort_values(by=\"date\", inplace=True)\n",
    "            daily.reset_index(drop=True,inplace=True)\n",
    "        except:\n",
    "            print(\"Could not access data for \", ticker)\n",
    "    \n",
    "    return daily"
   ]
  },
  {
   "cell_type": "code",
   "execution_count": 6,
   "id": "invalid-program",
   "metadata": {},
   "outputs": [],
   "source": [
    "# Set the start date, end date, and duration of returns we want from yahoo finance\n",
    "start_date = dt.datetime.strptime(\"2000-01-01\", \"%Y-%m-%d\")\n",
    "end_date = dt.datetime.now()\n",
    "duration = '1d'"
   ]
  },
  {
   "cell_type": "code",
   "execution_count": 7,
   "id": "stainless-senegal",
   "metadata": {},
   "outputs": [
    {
     "name": "stdout",
     "output_type": "stream",
     "text": [
      "Could not access data for  CTL\n",
      "Could not access data for  MYL\n",
      "Could not access data for  BF.B\n",
      "Could not access data for  ETFC\n",
      "Could not access data for  NBL\n",
      "Could not access data for  BRK.B\n"
     ]
    },
    {
     "data": {
      "text/html": [
       "<div>\n",
       "<style scoped>\n",
       "    .dataframe tbody tr th:only-of-type {\n",
       "        vertical-align: middle;\n",
       "    }\n",
       "\n",
       "    .dataframe tbody tr th {\n",
       "        vertical-align: top;\n",
       "    }\n",
       "\n",
       "    .dataframe thead th {\n",
       "        text-align: right;\n",
       "    }\n",
       "</style>\n",
       "<table border=\"1\" class=\"dataframe\">\n",
       "  <thead>\n",
       "    <tr style=\"text-align: right;\">\n",
       "      <th></th>\n",
       "      <th>date</th>\n",
       "      <th>ticker</th>\n",
       "      <th>adjclose</th>\n",
       "    </tr>\n",
       "  </thead>\n",
       "  <tbody>\n",
       "    <tr>\n",
       "      <th>0</th>\n",
       "      <td>2000-01-03</td>\n",
       "      <td>CB</td>\n",
       "      <td>10.392402</td>\n",
       "    </tr>\n",
       "    <tr>\n",
       "      <th>1</th>\n",
       "      <td>2000-01-03</td>\n",
       "      <td>EFX</td>\n",
       "      <td>10.855853</td>\n",
       "    </tr>\n",
       "    <tr>\n",
       "      <th>2</th>\n",
       "      <td>2000-01-03</td>\n",
       "      <td>J</td>\n",
       "      <td>7.692913</td>\n",
       "    </tr>\n",
       "    <tr>\n",
       "      <th>3</th>\n",
       "      <td>2000-01-03</td>\n",
       "      <td>CI</td>\n",
       "      <td>23.833805</td>\n",
       "    </tr>\n",
       "    <tr>\n",
       "      <th>4</th>\n",
       "      <td>2000-01-03</td>\n",
       "      <td>COP</td>\n",
       "      <td>9.057103</td>\n",
       "    </tr>\n",
       "    <tr>\n",
       "      <th>...</th>\n",
       "      <td>...</td>\n",
       "      <td>...</td>\n",
       "      <td>...</td>\n",
       "    </tr>\n",
       "    <tr>\n",
       "      <th>2380559</th>\n",
       "      <td>2021-02-05</td>\n",
       "      <td>PHM</td>\n",
       "      <td>48.130001</td>\n",
       "    </tr>\n",
       "    <tr>\n",
       "      <th>2380560</th>\n",
       "      <td>2021-02-05</td>\n",
       "      <td>HIG</td>\n",
       "      <td>50.439999</td>\n",
       "    </tr>\n",
       "    <tr>\n",
       "      <th>2380561</th>\n",
       "      <td>2021-02-05</td>\n",
       "      <td>CME</td>\n",
       "      <td>191.389999</td>\n",
       "    </tr>\n",
       "    <tr>\n",
       "      <th>2380562</th>\n",
       "      <td>2021-02-05</td>\n",
       "      <td>SEE</td>\n",
       "      <td>45.209999</td>\n",
       "    </tr>\n",
       "    <tr>\n",
       "      <th>2380563</th>\n",
       "      <td>2021-02-05</td>\n",
       "      <td>ALK</td>\n",
       "      <td>54.180000</td>\n",
       "    </tr>\n",
       "  </tbody>\n",
       "</table>\n",
       "<p>2380564 rows × 3 columns</p>\n",
       "</div>"
      ],
      "text/plain": [
       "              date ticker    adjclose\n",
       "0       2000-01-03     CB   10.392402\n",
       "1       2000-01-03    EFX   10.855853\n",
       "2       2000-01-03      J    7.692913\n",
       "3       2000-01-03     CI   23.833805\n",
       "4       2000-01-03    COP    9.057103\n",
       "...            ...    ...         ...\n",
       "2380559 2021-02-05    PHM   48.130001\n",
       "2380560 2021-02-05    HIG   50.439999\n",
       "2380561 2021-02-05    CME  191.389999\n",
       "2380562 2021-02-05    SEE   45.209999\n",
       "2380563 2021-02-05    ALK   54.180000\n",
       "\n",
       "[2380564 rows x 3 columns]"
      ]
     },
     "execution_count": 7,
     "metadata": {},
     "output_type": "execute_result"
    }
   ],
   "source": [
    "# Create the yahoo finance dataframes (~20 years of data atm, daily)\n",
    "daily = get_stocks(sp500, duration, start_date, end_date)\n",
    "daily"
   ]
  },
  {
   "cell_type": "code",
   "execution_count": 8,
   "id": "inner-tennessee",
   "metadata": {},
   "outputs": [
    {
     "name": "stdout",
     "output_type": "stream",
     "text": [
      "Could not access data for  CTL\n",
      "Could not access data for  MYL\n",
      "Could not access data for  BF.B\n",
      "Could not access data for  ETFC\n",
      "Could not access data for  NBL\n",
      "Could not access data for  BRK.B\n"
     ]
    }
   ],
   "source": [
    "# ~20 years of weekly data atm\n",
    "weekly = get_stocks(sp500, '1wk', start_date, end_date)"
   ]
  },
  {
   "cell_type": "code",
   "execution_count": 9,
   "id": "scheduled-gilbert",
   "metadata": {},
   "outputs": [
    {
     "name": "stdout",
     "output_type": "stream",
     "text": [
      "Could not access data for  CTL\n",
      "Could not access data for  MYL\n",
      "Could not access data for  BF.B\n",
      "Could not access data for  ETFC\n",
      "Could not access data for  NBL\n",
      "Could not access data for  BRK.B\n"
     ]
    }
   ],
   "source": [
    "# ~20 years of monthly data atm\n",
    "monthly = get_stocks(sp500, '1mo', start_date, end_date)"
   ]
  },
  {
   "cell_type": "code",
   "execution_count": 10,
   "id": "controversial-brass",
   "metadata": {},
   "outputs": [],
   "source": [
    "def df_to_csv(df, path):\n",
    "    '''\n",
    "    Saves the given dataframe to a csv using the provided file path.\n",
    "    '''\n",
    "    \n",
    "    try:\n",
    "        df.to_csv(path)\n",
    "        print(\"Success.\")\n",
    "    except:\n",
    "        print(\"Error in csv creation.\")\n",
    "        "
   ]
  },
  {
   "cell_type": "code",
   "execution_count": 11,
   "id": "spare-metadata",
   "metadata": {},
   "outputs": [
    {
     "name": "stdout",
     "output_type": "stream",
     "text": [
      "Success.\n",
      "Success.\n",
      "Success.\n"
     ]
    }
   ],
   "source": [
    "# Save the daily, weekly, and monthly datasets to file\n",
    "file_path = \"UPDATE\"\n",
    "df_to_csv(daily, \"/Users/kelseyesposito/finBERT/yahoo/yahoo_daily_sp500.csv\")\n",
    "df_to_csv(weekly, \"/Users/kelseyesposito/finBERT/yahoo/yahoo_weekly_sp500.csv\")\n",
    "df_to_csv(monthly, \"/Users/kelseyesposito/finBERT/yahoo/yahoo_monthly_sp500.csv\")"
   ]
  },
  {
   "cell_type": "code",
   "execution_count": null,
   "id": "apart-episode",
   "metadata": {},
   "outputs": [],
   "source": []
  }
 ],
 "metadata": {
  "kernelspec": {
   "display_name": "Python 3",
   "language": "python",
   "name": "python3"
  },
  "language_info": {
   "codemirror_mode": {
    "name": "ipython",
    "version": 3
   },
   "file_extension": ".py",
   "mimetype": "text/x-python",
   "name": "python",
   "nbconvert_exporter": "python",
   "pygments_lexer": "ipython3",
   "version": "3.8.5"
  }
 },
 "nbformat": 4,
 "nbformat_minor": 5
}
